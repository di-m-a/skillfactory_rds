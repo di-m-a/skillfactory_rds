{
 "cells": [
  {
   "cell_type": "markdown",
   "metadata": {},
   "source": [
    "# Описание задачи\n",
    "____________\n",
    "\n",
    "Датасет содержит сведения о 40 000 ресторанах Европы. Необходимо построить модель, которая должна быть способной предсказывать рейтинг ресторана по данным сайта TripAdvisor на основе имеющихся в датасете данных."
   ]
  },
  {
   "cell_type": "markdown",
   "metadata": {},
   "source": [
    "# Описание данных\n",
    "__________\n",
    "* Restaurant_id — идентификационный номер ресторана / сети ресторанов;\n",
    "* City — город, в котором находится ресторан;\n",
    "* Cuisine Style — кухня или кухни, к которым можно отнести блюда, предлагаемые в ресторане;\n",
    "* Ranking — место, которое занимает данный ресторан среди всех ресторанов своего города;\n",
    "* Rating — рейтинг ресторана по данным TripAdvisor (именно это значение должна будет предсказывать модель);\n",
    "* Price Range — диапазон цен в ресторане;\n",
    "* Number of Reviews — количество отзывов о ресторане;\n",
    "* Reviews — данные о двух отзывах, которые отображаются на сайте ресторана;\n",
    "* URL_TA — URL страницы ресторана на TripAdvosor;\n",
    "* ID_TA — идентификатор ресторана в базе данных TripAdvisor."
   ]
  },
  {
   "cell_type": "markdown",
   "metadata": {},
   "source": [
    "# Шаг 1. Загрузка и предобработка данных\n",
    "___________"
   ]
  },
  {
   "cell_type": "markdown",
   "metadata": {},
   "source": [
    "### Загрузка библиотек и датасета\n",
    "___________"
   ]
  },
  {
   "cell_type": "code",
   "execution_count": 40,
   "metadata": {},
   "outputs": [],
   "source": [
    "import pandas as pd\n",
    "import numpy as np\n",
    "import matplotlib.pyplot as plt\n",
    "%matplotlib inline\n",
    "import missingno as msno\n",
    "\n",
    "# Загружаем специальный инструмент для разбивки:\n",
    "from sklearn.model_selection import train_test_split, GridSearchCV\n",
    "# Импортируем необходимые библиотеки:\n",
    "from sklearn.ensemble import RandomForestRegressor # инструмент для создания и обучения модели\n",
    "from sklearn.metrics import mean_absolute_error # инструменты для оценки точности модели\n",
    "from sklearn.preprocessing import OrdinalEncoder # OrdinalEncoder для присвоения порядковых номеров множеству данных\n",
    "\n",
    "\n",
    "import re\n",
    "\n",
    "from ipyleaflet import Map, Marker, Heatmap, Polygon, FullScreenControl, WidgetControl\n",
    "import ipywidgets"
   ]
  },
  {
   "cell_type": "code",
   "execution_count": 3,
   "metadata": {},
   "outputs": [],
   "source": [
    "df_train = pd.read_csv(r'C:\\Data for Python\\main_task.xls')\n",
    "df_test = pd.read_csv(r'C:\\Data for Python\\kaggle_task.csv')\n",
    "sample_submission = pd.read_csv(r'C:\\Data for Python\\sample_submission.csv')"
   ]
  },
  {
   "cell_type": "code",
   "execution_count": 4,
   "metadata": {},
   "outputs": [
    {
     "name": "stdout",
     "output_type": "stream",
     "text": [
      "<class 'pandas.core.frame.DataFrame'>\n",
      "RangeIndex: 40000 entries, 0 to 39999\n",
      "Data columns (total 10 columns):\n",
      "Restaurant_id        40000 non-null object\n",
      "City                 40000 non-null object\n",
      "Cuisine Style        30717 non-null object\n",
      "Ranking              40000 non-null float64\n",
      "Rating               40000 non-null float64\n",
      "Price Range          26114 non-null object\n",
      "Number of Reviews    37457 non-null float64\n",
      "Reviews              40000 non-null object\n",
      "URL_TA               40000 non-null object\n",
      "ID_TA                40000 non-null object\n",
      "dtypes: float64(3), object(7)\n",
      "memory usage: 3.1+ MB\n"
     ]
    }
   ],
   "source": [
    "df_train.info()"
   ]
  },
  {
   "cell_type": "code",
   "execution_count": 5,
   "metadata": {},
   "outputs": [
    {
     "data": {
      "text/html": [
       "<div>\n",
       "<style scoped>\n",
       "    .dataframe tbody tr th:only-of-type {\n",
       "        vertical-align: middle;\n",
       "    }\n",
       "\n",
       "    .dataframe tbody tr th {\n",
       "        vertical-align: top;\n",
       "    }\n",
       "\n",
       "    .dataframe thead th {\n",
       "        text-align: right;\n",
       "    }\n",
       "</style>\n",
       "<table border=\"1\" class=\"dataframe\">\n",
       "  <thead>\n",
       "    <tr style=\"text-align: right;\">\n",
       "      <th></th>\n",
       "      <th>Restaurant_id</th>\n",
       "      <th>City</th>\n",
       "      <th>Cuisine Style</th>\n",
       "      <th>Ranking</th>\n",
       "      <th>Rating</th>\n",
       "      <th>Price Range</th>\n",
       "      <th>Number of Reviews</th>\n",
       "      <th>Reviews</th>\n",
       "      <th>URL_TA</th>\n",
       "      <th>ID_TA</th>\n",
       "    </tr>\n",
       "  </thead>\n",
       "  <tbody>\n",
       "    <tr>\n",
       "      <td>0</td>\n",
       "      <td>id_5569</td>\n",
       "      <td>Paris</td>\n",
       "      <td>['European', 'French', 'International']</td>\n",
       "      <td>5570.0</td>\n",
       "      <td>3.5</td>\n",
       "      <td>$$ - $$$</td>\n",
       "      <td>194.0</td>\n",
       "      <td>[['Good food at your doorstep', 'A good hotel ...</td>\n",
       "      <td>/Restaurant_Review-g187147-d1912643-Reviews-R_...</td>\n",
       "      <td>d1912643</td>\n",
       "    </tr>\n",
       "    <tr>\n",
       "      <td>1</td>\n",
       "      <td>id_1535</td>\n",
       "      <td>Stockholm</td>\n",
       "      <td>NaN</td>\n",
       "      <td>1537.0</td>\n",
       "      <td>4.0</td>\n",
       "      <td>NaN</td>\n",
       "      <td>10.0</td>\n",
       "      <td>[['Unique cuisine', 'Delicious Nepalese food']...</td>\n",
       "      <td>/Restaurant_Review-g189852-d7992032-Reviews-Bu...</td>\n",
       "      <td>d7992032</td>\n",
       "    </tr>\n",
       "    <tr>\n",
       "      <td>2</td>\n",
       "      <td>id_352</td>\n",
       "      <td>London</td>\n",
       "      <td>['Japanese', 'Sushi', 'Asian', 'Grill', 'Veget...</td>\n",
       "      <td>353.0</td>\n",
       "      <td>4.5</td>\n",
       "      <td>$$$$</td>\n",
       "      <td>688.0</td>\n",
       "      <td>[['Catch up with friends', 'Not exceptional'],...</td>\n",
       "      <td>/Restaurant_Review-g186338-d8632781-Reviews-RO...</td>\n",
       "      <td>d8632781</td>\n",
       "    </tr>\n",
       "    <tr>\n",
       "      <td>3</td>\n",
       "      <td>id_3456</td>\n",
       "      <td>Berlin</td>\n",
       "      <td>NaN</td>\n",
       "      <td>3458.0</td>\n",
       "      <td>5.0</td>\n",
       "      <td>NaN</td>\n",
       "      <td>3.0</td>\n",
       "      <td>[[], []]</td>\n",
       "      <td>/Restaurant_Review-g187323-d1358776-Reviews-Es...</td>\n",
       "      <td>d1358776</td>\n",
       "    </tr>\n",
       "    <tr>\n",
       "      <td>4</td>\n",
       "      <td>id_615</td>\n",
       "      <td>Munich</td>\n",
       "      <td>['German', 'Central European', 'Vegetarian Fri...</td>\n",
       "      <td>621.0</td>\n",
       "      <td>4.0</td>\n",
       "      <td>$$ - $$$</td>\n",
       "      <td>84.0</td>\n",
       "      <td>[['Best place to try a Bavarian food', 'Nice b...</td>\n",
       "      <td>/Restaurant_Review-g187309-d6864963-Reviews-Au...</td>\n",
       "      <td>d6864963</td>\n",
       "    </tr>\n",
       "  </tbody>\n",
       "</table>\n",
       "</div>"
      ],
      "text/plain": [
       "  Restaurant_id       City                                      Cuisine Style  \\\n",
       "0       id_5569      Paris            ['European', 'French', 'International']   \n",
       "1       id_1535  Stockholm                                                NaN   \n",
       "2        id_352     London  ['Japanese', 'Sushi', 'Asian', 'Grill', 'Veget...   \n",
       "3       id_3456     Berlin                                                NaN   \n",
       "4        id_615     Munich  ['German', 'Central European', 'Vegetarian Fri...   \n",
       "\n",
       "   Ranking  Rating Price Range  Number of Reviews  \\\n",
       "0   5570.0     3.5    $$ - $$$              194.0   \n",
       "1   1537.0     4.0         NaN               10.0   \n",
       "2    353.0     4.5        $$$$              688.0   \n",
       "3   3458.0     5.0         NaN                3.0   \n",
       "4    621.0     4.0    $$ - $$$               84.0   \n",
       "\n",
       "                                             Reviews  \\\n",
       "0  [['Good food at your doorstep', 'A good hotel ...   \n",
       "1  [['Unique cuisine', 'Delicious Nepalese food']...   \n",
       "2  [['Catch up with friends', 'Not exceptional'],...   \n",
       "3                                           [[], []]   \n",
       "4  [['Best place to try a Bavarian food', 'Nice b...   \n",
       "\n",
       "                                              URL_TA     ID_TA  \n",
       "0  /Restaurant_Review-g187147-d1912643-Reviews-R_...  d1912643  \n",
       "1  /Restaurant_Review-g189852-d7992032-Reviews-Bu...  d7992032  \n",
       "2  /Restaurant_Review-g186338-d8632781-Reviews-RO...  d8632781  \n",
       "3  /Restaurant_Review-g187323-d1358776-Reviews-Es...  d1358776  \n",
       "4  /Restaurant_Review-g187309-d6864963-Reviews-Au...  d6864963  "
      ]
     },
     "execution_count": 5,
     "metadata": {},
     "output_type": "execute_result"
    }
   ],
   "source": [
    "df_train.head()"
   ]
  },
  {
   "cell_type": "code",
   "execution_count": 6,
   "metadata": {},
   "outputs": [
    {
     "name": "stdout",
     "output_type": "stream",
     "text": [
      "<class 'pandas.core.frame.DataFrame'>\n",
      "RangeIndex: 10000 entries, 0 to 9999\n",
      "Data columns (total 9 columns):\n",
      "Restaurant_id        10000 non-null object\n",
      "City                 10000 non-null object\n",
      "Cuisine Style        7693 non-null object\n",
      "Ranking              10000 non-null float64\n",
      "Price Range          6525 non-null object\n",
      "Number of Reviews    9343 non-null float64\n",
      "Reviews              9998 non-null object\n",
      "URL_TA               10000 non-null object\n",
      "ID_TA                10000 non-null object\n",
      "dtypes: float64(2), object(7)\n",
      "memory usage: 703.2+ KB\n"
     ]
    }
   ],
   "source": [
    "df_test.info()"
   ]
  },
  {
   "cell_type": "code",
   "execution_count": 7,
   "metadata": {},
   "outputs": [
    {
     "data": {
      "text/html": [
       "<div>\n",
       "<style scoped>\n",
       "    .dataframe tbody tr th:only-of-type {\n",
       "        vertical-align: middle;\n",
       "    }\n",
       "\n",
       "    .dataframe tbody tr th {\n",
       "        vertical-align: top;\n",
       "    }\n",
       "\n",
       "    .dataframe thead th {\n",
       "        text-align: right;\n",
       "    }\n",
       "</style>\n",
       "<table border=\"1\" class=\"dataframe\">\n",
       "  <thead>\n",
       "    <tr style=\"text-align: right;\">\n",
       "      <th></th>\n",
       "      <th>Restaurant_id</th>\n",
       "      <th>City</th>\n",
       "      <th>Cuisine Style</th>\n",
       "      <th>Ranking</th>\n",
       "      <th>Price Range</th>\n",
       "      <th>Number of Reviews</th>\n",
       "      <th>Reviews</th>\n",
       "      <th>URL_TA</th>\n",
       "      <th>ID_TA</th>\n",
       "    </tr>\n",
       "  </thead>\n",
       "  <tbody>\n",
       "    <tr>\n",
       "      <td>0</td>\n",
       "      <td>id_0</td>\n",
       "      <td>Paris</td>\n",
       "      <td>['Bar', 'Pub']</td>\n",
       "      <td>12963.0</td>\n",
       "      <td>$$ - $$$</td>\n",
       "      <td>4.0</td>\n",
       "      <td>[[], []]</td>\n",
       "      <td>/Restaurant_Review-g187147-d10746918-Reviews-L...</td>\n",
       "      <td>d10746918</td>\n",
       "    </tr>\n",
       "    <tr>\n",
       "      <td>1</td>\n",
       "      <td>id_1</td>\n",
       "      <td>Helsinki</td>\n",
       "      <td>['European', 'Scandinavian', 'Gluten Free Opti...</td>\n",
       "      <td>106.0</td>\n",
       "      <td>$$ - $$$</td>\n",
       "      <td>97.0</td>\n",
       "      <td>[['Very good reviews!', 'Fine dining in Hakani...</td>\n",
       "      <td>/Restaurant_Review-g189934-d6674944-Reviews-Ra...</td>\n",
       "      <td>d6674944</td>\n",
       "    </tr>\n",
       "    <tr>\n",
       "      <td>2</td>\n",
       "      <td>id_2</td>\n",
       "      <td>Edinburgh</td>\n",
       "      <td>['Vegetarian Friendly']</td>\n",
       "      <td>810.0</td>\n",
       "      <td>$$ - $$$</td>\n",
       "      <td>28.0</td>\n",
       "      <td>[['Better than the Links', 'Ivy Black'], ['12/...</td>\n",
       "      <td>/Restaurant_Review-g186525-d13129638-Reviews-B...</td>\n",
       "      <td>d13129638</td>\n",
       "    </tr>\n",
       "    <tr>\n",
       "      <td>3</td>\n",
       "      <td>id_3</td>\n",
       "      <td>London</td>\n",
       "      <td>['Italian', 'Mediterranean', 'European', 'Vege...</td>\n",
       "      <td>1669.0</td>\n",
       "      <td>$$$$</td>\n",
       "      <td>202.0</td>\n",
       "      <td>[['Most exquisite', 'Delicious and authentic']...</td>\n",
       "      <td>/Restaurant_Review-g186338-d680417-Reviews-Qui...</td>\n",
       "      <td>d680417</td>\n",
       "    </tr>\n",
       "    <tr>\n",
       "      <td>4</td>\n",
       "      <td>id_4</td>\n",
       "      <td>Bratislava</td>\n",
       "      <td>['Italian', 'Mediterranean', 'European', 'Seaf...</td>\n",
       "      <td>37.0</td>\n",
       "      <td>$$$$</td>\n",
       "      <td>162.0</td>\n",
       "      <td>[['Always the best in bratislava', 'Very good ...</td>\n",
       "      <td>/Restaurant_Review-g274924-d1112354-Reviews-Ma...</td>\n",
       "      <td>d1112354</td>\n",
       "    </tr>\n",
       "  </tbody>\n",
       "</table>\n",
       "</div>"
      ],
      "text/plain": [
       "  Restaurant_id        City  \\\n",
       "0          id_0       Paris   \n",
       "1          id_1    Helsinki   \n",
       "2          id_2   Edinburgh   \n",
       "3          id_3      London   \n",
       "4          id_4  Bratislava   \n",
       "\n",
       "                                       Cuisine Style  Ranking Price Range  \\\n",
       "0                                     ['Bar', 'Pub']  12963.0    $$ - $$$   \n",
       "1  ['European', 'Scandinavian', 'Gluten Free Opti...    106.0    $$ - $$$   \n",
       "2                            ['Vegetarian Friendly']    810.0    $$ - $$$   \n",
       "3  ['Italian', 'Mediterranean', 'European', 'Vege...   1669.0        $$$$   \n",
       "4  ['Italian', 'Mediterranean', 'European', 'Seaf...     37.0        $$$$   \n",
       "\n",
       "   Number of Reviews                                            Reviews  \\\n",
       "0                4.0                                           [[], []]   \n",
       "1               97.0  [['Very good reviews!', 'Fine dining in Hakani...   \n",
       "2               28.0  [['Better than the Links', 'Ivy Black'], ['12/...   \n",
       "3              202.0  [['Most exquisite', 'Delicious and authentic']...   \n",
       "4              162.0  [['Always the best in bratislava', 'Very good ...   \n",
       "\n",
       "                                              URL_TA      ID_TA  \n",
       "0  /Restaurant_Review-g187147-d10746918-Reviews-L...  d10746918  \n",
       "1  /Restaurant_Review-g189934-d6674944-Reviews-Ra...   d6674944  \n",
       "2  /Restaurant_Review-g186525-d13129638-Reviews-B...  d13129638  \n",
       "3  /Restaurant_Review-g186338-d680417-Reviews-Qui...    d680417  \n",
       "4  /Restaurant_Review-g274924-d1112354-Reviews-Ma...   d1112354  "
      ]
     },
     "execution_count": 7,
     "metadata": {},
     "output_type": "execute_result"
    }
   ],
   "source": [
    "df_test.head()"
   ]
  },
  {
   "cell_type": "code",
   "execution_count": 8,
   "metadata": {},
   "outputs": [
    {
     "name": "stdout",
     "output_type": "stream",
     "text": [
      "<class 'pandas.core.frame.DataFrame'>\n",
      "RangeIndex: 10000 entries, 0 to 9999\n",
      "Data columns (total 2 columns):\n",
      "Restaurant_id    10000 non-null object\n",
      "Rating           10000 non-null float64\n",
      "dtypes: float64(1), object(1)\n",
      "memory usage: 156.4+ KB\n"
     ]
    }
   ],
   "source": [
    "sample_submission.info()"
   ]
  },
  {
   "cell_type": "code",
   "execution_count": 9,
   "metadata": {},
   "outputs": [
    {
     "data": {
      "text/html": [
       "<div>\n",
       "<style scoped>\n",
       "    .dataframe tbody tr th:only-of-type {\n",
       "        vertical-align: middle;\n",
       "    }\n",
       "\n",
       "    .dataframe tbody tr th {\n",
       "        vertical-align: top;\n",
       "    }\n",
       "\n",
       "    .dataframe thead th {\n",
       "        text-align: right;\n",
       "    }\n",
       "</style>\n",
       "<table border=\"1\" class=\"dataframe\">\n",
       "  <thead>\n",
       "    <tr style=\"text-align: right;\">\n",
       "      <th></th>\n",
       "      <th>Restaurant_id</th>\n",
       "      <th>Rating</th>\n",
       "    </tr>\n",
       "  </thead>\n",
       "  <tbody>\n",
       "    <tr>\n",
       "      <td>0</td>\n",
       "      <td>id_0</td>\n",
       "      <td>2.0</td>\n",
       "    </tr>\n",
       "    <tr>\n",
       "      <td>1</td>\n",
       "      <td>id_1</td>\n",
       "      <td>2.5</td>\n",
       "    </tr>\n",
       "    <tr>\n",
       "      <td>2</td>\n",
       "      <td>id_2</td>\n",
       "      <td>4.0</td>\n",
       "    </tr>\n",
       "    <tr>\n",
       "      <td>3</td>\n",
       "      <td>id_3</td>\n",
       "      <td>1.0</td>\n",
       "    </tr>\n",
       "    <tr>\n",
       "      <td>4</td>\n",
       "      <td>id_4</td>\n",
       "      <td>4.0</td>\n",
       "    </tr>\n",
       "  </tbody>\n",
       "</table>\n",
       "</div>"
      ],
      "text/plain": [
       "  Restaurant_id  Rating\n",
       "0          id_0     2.0\n",
       "1          id_1     2.5\n",
       "2          id_2     4.0\n",
       "3          id_3     1.0\n",
       "4          id_4     4.0"
      ]
     },
     "execution_count": 9,
     "metadata": {},
     "output_type": "execute_result"
    }
   ],
   "source": [
    "sample_submission.head()"
   ]
  },
  {
   "cell_type": "markdown",
   "metadata": {},
   "source": [
    "### Предобработка\n",
    "_____________"
   ]
  },
  {
   "cell_type": "markdown",
   "metadata": {},
   "source": [
    "Для более корректной обработки признаков необходимо объединить тренировочный и тестируемый датасеты в один общий датасет"
   ]
  },
  {
   "cell_type": "code",
   "execution_count": 10,
   "metadata": {},
   "outputs": [],
   "source": [
    "df_train['sample'] = 1 # обозначение того,где тренировочный датасет\n",
    "df_test['sample'] = 0 # обозначение того,где тестируемый датасет\n",
    "df_test['Rating'] = 0 # в тесте нас нет значения Rating, его необходимо предсказать, на данный момент достаточно\n",
    "# заполить его нулями\n",
    "\n",
    "data = df_test.append(df_train, sort=False).reset_index(drop=True) # объединение"
   ]
  },
  {
   "cell_type": "code",
   "execution_count": 11,
   "metadata": {},
   "outputs": [
    {
     "data": {
      "text/html": [
       "<div>\n",
       "<style scoped>\n",
       "    .dataframe tbody tr th:only-of-type {\n",
       "        vertical-align: middle;\n",
       "    }\n",
       "\n",
       "    .dataframe tbody tr th {\n",
       "        vertical-align: top;\n",
       "    }\n",
       "\n",
       "    .dataframe thead th {\n",
       "        text-align: right;\n",
       "    }\n",
       "</style>\n",
       "<table border=\"1\" class=\"dataframe\">\n",
       "  <thead>\n",
       "    <tr style=\"text-align: right;\">\n",
       "      <th></th>\n",
       "      <th>Restaurant_id</th>\n",
       "      <th>City</th>\n",
       "      <th>Cuisine Style</th>\n",
       "      <th>Ranking</th>\n",
       "      <th>Price Range</th>\n",
       "      <th>Number of Reviews</th>\n",
       "      <th>Reviews</th>\n",
       "      <th>URL_TA</th>\n",
       "      <th>ID_TA</th>\n",
       "      <th>sample</th>\n",
       "      <th>Rating</th>\n",
       "    </tr>\n",
       "  </thead>\n",
       "  <tbody>\n",
       "    <tr>\n",
       "      <td>0</td>\n",
       "      <td>id_0</td>\n",
       "      <td>Paris</td>\n",
       "      <td>['Bar', 'Pub']</td>\n",
       "      <td>12963.0</td>\n",
       "      <td>$$ - $$$</td>\n",
       "      <td>4.0</td>\n",
       "      <td>[[], []]</td>\n",
       "      <td>/Restaurant_Review-g187147-d10746918-Reviews-L...</td>\n",
       "      <td>d10746918</td>\n",
       "      <td>0</td>\n",
       "      <td>0.0</td>\n",
       "    </tr>\n",
       "    <tr>\n",
       "      <td>1</td>\n",
       "      <td>id_1</td>\n",
       "      <td>Helsinki</td>\n",
       "      <td>['European', 'Scandinavian', 'Gluten Free Opti...</td>\n",
       "      <td>106.0</td>\n",
       "      <td>$$ - $$$</td>\n",
       "      <td>97.0</td>\n",
       "      <td>[['Very good reviews!', 'Fine dining in Hakani...</td>\n",
       "      <td>/Restaurant_Review-g189934-d6674944-Reviews-Ra...</td>\n",
       "      <td>d6674944</td>\n",
       "      <td>0</td>\n",
       "      <td>0.0</td>\n",
       "    </tr>\n",
       "    <tr>\n",
       "      <td>2</td>\n",
       "      <td>id_2</td>\n",
       "      <td>Edinburgh</td>\n",
       "      <td>['Vegetarian Friendly']</td>\n",
       "      <td>810.0</td>\n",
       "      <td>$$ - $$$</td>\n",
       "      <td>28.0</td>\n",
       "      <td>[['Better than the Links', 'Ivy Black'], ['12/...</td>\n",
       "      <td>/Restaurant_Review-g186525-d13129638-Reviews-B...</td>\n",
       "      <td>d13129638</td>\n",
       "      <td>0</td>\n",
       "      <td>0.0</td>\n",
       "    </tr>\n",
       "    <tr>\n",
       "      <td>3</td>\n",
       "      <td>id_3</td>\n",
       "      <td>London</td>\n",
       "      <td>['Italian', 'Mediterranean', 'European', 'Vege...</td>\n",
       "      <td>1669.0</td>\n",
       "      <td>$$$$</td>\n",
       "      <td>202.0</td>\n",
       "      <td>[['Most exquisite', 'Delicious and authentic']...</td>\n",
       "      <td>/Restaurant_Review-g186338-d680417-Reviews-Qui...</td>\n",
       "      <td>d680417</td>\n",
       "      <td>0</td>\n",
       "      <td>0.0</td>\n",
       "    </tr>\n",
       "    <tr>\n",
       "      <td>4</td>\n",
       "      <td>id_4</td>\n",
       "      <td>Bratislava</td>\n",
       "      <td>['Italian', 'Mediterranean', 'European', 'Seaf...</td>\n",
       "      <td>37.0</td>\n",
       "      <td>$$$$</td>\n",
       "      <td>162.0</td>\n",
       "      <td>[['Always the best in bratislava', 'Very good ...</td>\n",
       "      <td>/Restaurant_Review-g274924-d1112354-Reviews-Ma...</td>\n",
       "      <td>d1112354</td>\n",
       "      <td>0</td>\n",
       "      <td>0.0</td>\n",
       "    </tr>\n",
       "  </tbody>\n",
       "</table>\n",
       "</div>"
      ],
      "text/plain": [
       "  Restaurant_id        City  \\\n",
       "0          id_0       Paris   \n",
       "1          id_1    Helsinki   \n",
       "2          id_2   Edinburgh   \n",
       "3          id_3      London   \n",
       "4          id_4  Bratislava   \n",
       "\n",
       "                                       Cuisine Style  Ranking Price Range  \\\n",
       "0                                     ['Bar', 'Pub']  12963.0    $$ - $$$   \n",
       "1  ['European', 'Scandinavian', 'Gluten Free Opti...    106.0    $$ - $$$   \n",
       "2                            ['Vegetarian Friendly']    810.0    $$ - $$$   \n",
       "3  ['Italian', 'Mediterranean', 'European', 'Vege...   1669.0        $$$$   \n",
       "4  ['Italian', 'Mediterranean', 'European', 'Seaf...     37.0        $$$$   \n",
       "\n",
       "   Number of Reviews                                            Reviews  \\\n",
       "0                4.0                                           [[], []]   \n",
       "1               97.0  [['Very good reviews!', 'Fine dining in Hakani...   \n",
       "2               28.0  [['Better than the Links', 'Ivy Black'], ['12/...   \n",
       "3              202.0  [['Most exquisite', 'Delicious and authentic']...   \n",
       "4              162.0  [['Always the best in bratislava', 'Very good ...   \n",
       "\n",
       "                                              URL_TA      ID_TA  sample  \\\n",
       "0  /Restaurant_Review-g187147-d10746918-Reviews-L...  d10746918       0   \n",
       "1  /Restaurant_Review-g189934-d6674944-Reviews-Ra...   d6674944       0   \n",
       "2  /Restaurant_Review-g186525-d13129638-Reviews-B...  d13129638       0   \n",
       "3  /Restaurant_Review-g186338-d680417-Reviews-Qui...    d680417       0   \n",
       "4  /Restaurant_Review-g274924-d1112354-Reviews-Ma...   d1112354       0   \n",
       "\n",
       "   Rating  \n",
       "0     0.0  \n",
       "1     0.0  \n",
       "2     0.0  \n",
       "3     0.0  \n",
       "4     0.0  "
      ]
     },
     "execution_count": 11,
     "metadata": {},
     "output_type": "execute_result"
    }
   ],
   "source": [
    "data.head()"
   ]
  },
  {
   "cell_type": "code",
   "execution_count": 12,
   "metadata": {},
   "outputs": [
    {
     "name": "stdout",
     "output_type": "stream",
     "text": [
      "<class 'pandas.core.frame.DataFrame'>\n",
      "RangeIndex: 50000 entries, 0 to 49999\n",
      "Data columns (total 11 columns):\n",
      "Restaurant_id        50000 non-null object\n",
      "City                 50000 non-null object\n",
      "Cuisine Style        38410 non-null object\n",
      "Ranking              50000 non-null float64\n",
      "Price Range          32639 non-null object\n",
      "Number of Reviews    46800 non-null float64\n",
      "Reviews              49998 non-null object\n",
      "URL_TA               50000 non-null object\n",
      "ID_TA                50000 non-null object\n",
      "sample               50000 non-null int64\n",
      "Rating               50000 non-null float64\n",
      "dtypes: float64(3), int64(1), object(7)\n",
      "memory usage: 4.2+ MB\n"
     ]
    }
   ],
   "source": [
    "data.info()"
   ]
  },
  {
   "cell_type": "markdown",
   "metadata": {},
   "source": [
    "Сколько пропущенных значений имеется в датафрейме?"
   ]
  },
  {
   "cell_type": "code",
   "execution_count": 13,
   "metadata": {},
   "outputs": [
    {
     "data": {
      "image/png": "[encoded data removed]",
      "text/plain": [
       "<Figure size 1800x720 with 1 Axes>"
      ]
     },
     "metadata": {
      "needs_background": "light"
     },
     "output_type": "display_data"
    }
   ],
   "source": [
    "# Визуализация данных (белым цветом обозначены пропуски)\n",
    "\n",
    "msno.matrix(data, color=(0.04, 0.221, 0.078), sparkline=False);"
   ]
  },
  {
   "cell_type": "code",
   "execution_count": 14,
   "metadata": {},
   "outputs": [
    {
     "data": {
      "text/plain": [
       "Restaurant_id            0\n",
       "City                     0\n",
       "Cuisine Style        11590\n",
       "Ranking                  0\n",
       "Price Range          17361\n",
       "Number of Reviews     3200\n",
       "Reviews                  2\n",
       "URL_TA                   0\n",
       "ID_TA                    0\n",
       "sample                   0\n",
       "Rating                   0\n",
       "dtype: int64"
      ]
     },
     "execution_count": 14,
     "metadata": {},
     "output_type": "execute_result"
    }
   ],
   "source": [
    "data.isna().sum()"
   ]
  },
  {
   "cell_type": "markdown",
   "metadata": {},
   "source": [
    "Имеются ли в данных дублированные значения?"
   ]
  },
  {
   "cell_type": "code",
   "execution_count": 15,
   "metadata": {},
   "outputs": [
    {
     "data": {
      "text/plain": [
       "0"
      ]
     },
     "execution_count": 15,
     "metadata": {},
     "output_type": "execute_result"
    }
   ],
   "source": [
    "data.duplicated().sum()"
   ]
  },
  {
   "cell_type": "markdown",
   "metadata": {},
   "source": [
    "В данных наблюдается неверная запись названия признаков. Предлагается привести все названия к нижнему регистру и заменить пробелы нижним подчеркиванием"
   ]
  },
  {
   "cell_type": "code",
   "execution_count": 16,
   "metadata": {},
   "outputs": [],
   "source": [
    "data.columns = map(str.lower, data.columns)"
   ]
  },
  {
   "cell_type": "code",
   "execution_count": 17,
   "metadata": {},
   "outputs": [
    {
     "data": {
      "text/plain": [
       "Index(['restaurant_id', 'city', 'cuisine style', 'ranking', 'price range',\n",
       "       'number of reviews', 'reviews', 'url_ta', 'id_ta', 'sample', 'rating'],\n",
       "      dtype='object')"
      ]
     },
     "execution_count": 17,
     "metadata": {},
     "output_type": "execute_result"
    }
   ],
   "source": [
    "data.columns"
   ]
  },
  {
   "cell_type": "code",
   "execution_count": 18,
   "metadata": {},
   "outputs": [],
   "source": [
    "data.rename(columns={'cuisine style': 'cuisine_style', 'price range': 'price_range',\n",
    "                      'number of reviews': 'number_of_reviews'}, inplace=True)"
   ]
  },
  {
   "cell_type": "markdown",
   "metadata": {},
   "source": [
    "Так как ссылка на отзыв о ресторане 'url_ta' является номинативным и не несет в себе полезной для дальнейшей работы функции, предлагается устранить данный набор значений"
   ]
  },
  {
   "cell_type": "code",
   "execution_count": 19,
   "metadata": {},
   "outputs": [],
   "source": [
    "data.drop(labels='url_ta', axis=1, inplace=True)"
   ]
  },
  {
   "cell_type": "markdown",
   "metadata": {},
   "source": [
    "Так как количество пропущенных значений, обозначающих количество отзывов, не больше 10 процентов от их общего числа, предлагается заполнить их 0. Ноль, также как и пропущенное значение, будет означать отсутствие отзывов"
   ]
  },
  {
   "cell_type": "code",
   "execution_count": 20,
   "metadata": {},
   "outputs": [],
   "source": [
    "data['number_of_reviews'].fillna(0, inplace=True)"
   ]
  },
  {
   "cell_type": "code",
   "execution_count": 21,
   "metadata": {},
   "outputs": [
    {
     "data": {
      "text/html": [
       "<div>\n",
       "<style scoped>\n",
       "    .dataframe tbody tr th:only-of-type {\n",
       "        vertical-align: middle;\n",
       "    }\n",
       "\n",
       "    .dataframe tbody tr th {\n",
       "        vertical-align: top;\n",
       "    }\n",
       "\n",
       "    .dataframe thead th {\n",
       "        text-align: right;\n",
       "    }\n",
       "</style>\n",
       "<table border=\"1\" class=\"dataframe\">\n",
       "  <thead>\n",
       "    <tr style=\"text-align: right;\">\n",
       "      <th></th>\n",
       "      <th>restaurant_id</th>\n",
       "      <th>city</th>\n",
       "      <th>cuisine_style</th>\n",
       "      <th>ranking</th>\n",
       "      <th>price_range</th>\n",
       "      <th>number_of_reviews</th>\n",
       "      <th>reviews</th>\n",
       "      <th>id_ta</th>\n",
       "      <th>sample</th>\n",
       "      <th>rating</th>\n",
       "    </tr>\n",
       "  </thead>\n",
       "  <tbody>\n",
       "    <tr>\n",
       "      <td>0</td>\n",
       "      <td>id_0</td>\n",
       "      <td>Paris</td>\n",
       "      <td>['Bar', 'Pub']</td>\n",
       "      <td>12963.0</td>\n",
       "      <td>$$ - $$$</td>\n",
       "      <td>4.0</td>\n",
       "      <td>[[], []]</td>\n",
       "      <td>d10746918</td>\n",
       "      <td>0</td>\n",
       "      <td>0.0</td>\n",
       "    </tr>\n",
       "    <tr>\n",
       "      <td>1</td>\n",
       "      <td>id_1</td>\n",
       "      <td>Helsinki</td>\n",
       "      <td>['European', 'Scandinavian', 'Gluten Free Opti...</td>\n",
       "      <td>106.0</td>\n",
       "      <td>$$ - $$$</td>\n",
       "      <td>97.0</td>\n",
       "      <td>[['Very good reviews!', 'Fine dining in Hakani...</td>\n",
       "      <td>d6674944</td>\n",
       "      <td>0</td>\n",
       "      <td>0.0</td>\n",
       "    </tr>\n",
       "    <tr>\n",
       "      <td>2</td>\n",
       "      <td>id_2</td>\n",
       "      <td>Edinburgh</td>\n",
       "      <td>['Vegetarian Friendly']</td>\n",
       "      <td>810.0</td>\n",
       "      <td>$$ - $$$</td>\n",
       "      <td>28.0</td>\n",
       "      <td>[['Better than the Links', 'Ivy Black'], ['12/...</td>\n",
       "      <td>d13129638</td>\n",
       "      <td>0</td>\n",
       "      <td>0.0</td>\n",
       "    </tr>\n",
       "    <tr>\n",
       "      <td>3</td>\n",
       "      <td>id_3</td>\n",
       "      <td>London</td>\n",
       "      <td>['Italian', 'Mediterranean', 'European', 'Vege...</td>\n",
       "      <td>1669.0</td>\n",
       "      <td>$$$$</td>\n",
       "      <td>202.0</td>\n",
       "      <td>[['Most exquisite', 'Delicious and authentic']...</td>\n",
       "      <td>d680417</td>\n",
       "      <td>0</td>\n",
       "      <td>0.0</td>\n",
       "    </tr>\n",
       "    <tr>\n",
       "      <td>4</td>\n",
       "      <td>id_4</td>\n",
       "      <td>Bratislava</td>\n",
       "      <td>['Italian', 'Mediterranean', 'European', 'Seaf...</td>\n",
       "      <td>37.0</td>\n",
       "      <td>$$$$</td>\n",
       "      <td>162.0</td>\n",
       "      <td>[['Always the best in bratislava', 'Very good ...</td>\n",
       "      <td>d1112354</td>\n",
       "      <td>0</td>\n",
       "      <td>0.0</td>\n",
       "    </tr>\n",
       "  </tbody>\n",
       "</table>\n",
       "</div>"
      ],
      "text/plain": [
       "  restaurant_id        city  \\\n",
       "0          id_0       Paris   \n",
       "1          id_1    Helsinki   \n",
       "2          id_2   Edinburgh   \n",
       "3          id_3      London   \n",
       "4          id_4  Bratislava   \n",
       "\n",
       "                                       cuisine_style  ranking price_range  \\\n",
       "0                                     ['Bar', 'Pub']  12963.0    $$ - $$$   \n",
       "1  ['European', 'Scandinavian', 'Gluten Free Opti...    106.0    $$ - $$$   \n",
       "2                            ['Vegetarian Friendly']    810.0    $$ - $$$   \n",
       "3  ['Italian', 'Mediterranean', 'European', 'Vege...   1669.0        $$$$   \n",
       "4  ['Italian', 'Mediterranean', 'European', 'Seaf...     37.0        $$$$   \n",
       "\n",
       "   number_of_reviews                                            reviews  \\\n",
       "0                4.0                                           [[], []]   \n",
       "1               97.0  [['Very good reviews!', 'Fine dining in Hakani...   \n",
       "2               28.0  [['Better than the Links', 'Ivy Black'], ['12/...   \n",
       "3              202.0  [['Most exquisite', 'Delicious and authentic']...   \n",
       "4              162.0  [['Always the best in bratislava', 'Very good ...   \n",
       "\n",
       "       id_ta  sample  rating  \n",
       "0  d10746918       0     0.0  \n",
       "1   d6674944       0     0.0  \n",
       "2  d13129638       0     0.0  \n",
       "3    d680417       0     0.0  \n",
       "4   d1112354       0     0.0  "
      ]
     },
     "execution_count": 21,
     "metadata": {},
     "output_type": "execute_result"
    }
   ],
   "source": [
    "data.head()"
   ]
  },
  {
   "cell_type": "markdown",
   "metadata": {},
   "source": [
    "## Вывод\n",
    "_________________\n",
    "Были загружены данные и объединены воедино 2 датасета, тренировочный и тестируемый. Для более корректной обработки признаков были объединены тренировочный и тестируемый датасеты в один общий датасет. Тренировочному датасету было присвоено значение 1 для каждого из наблюдений, а тестируемому значение 0, также по каждому из наблюдений. В названном, общем, датафрейме data отсутствуют дублирующиеся значения, однако в признаках cuisine_style, price_range присутствует критическое количество пустых значений, (11590, 17361) соответственно. Также имелись пропуски в признаке number_of_reviews, их количество незначительное (3200) и были заменены нулями. Оставшиеся пропущенные значения предлагается на данный момент оставить и заполнить при дальнейшей работе, приняв решение о заполнении, более подробно изучив данные. Устранение пустых значений не является целесообразным, так как будет потеряно четверть данных. Названия признаков были приведены к нижнему регистру, а также были заменены пробелы на символ нижнего подчеркивания. Признак 'url_ta' был полностью устранен, так как не несет в себе пользы для дальнейшей работы.\n"
   ]
  },
  {
   "cell_type": "markdown",
   "metadata": {},
   "source": [
    "# Шаг 2. Анализ данных\n",
    "________"
   ]
  },
  {
   "cell_type": "markdown",
   "metadata": {},
   "source": [
    "В данном разделе следует более детально рассмотреть представленные признаки, и если целесообразно, создать новые признаки для дальнейшего построения модели"
   ]
  },
  {
   "cell_type": "code",
   "execution_count": 22,
   "metadata": {},
   "outputs": [
    {
     "data": {
      "text/html": [
       "<div>\n",
       "<style scoped>\n",
       "    .dataframe tbody tr th:only-of-type {\n",
       "        vertical-align: middle;\n",
       "    }\n",
       "\n",
       "    .dataframe tbody tr th {\n",
       "        vertical-align: top;\n",
       "    }\n",
       "\n",
       "    .dataframe thead th {\n",
       "        text-align: right;\n",
       "    }\n",
       "</style>\n",
       "<table border=\"1\" class=\"dataframe\">\n",
       "  <thead>\n",
       "    <tr style=\"text-align: right;\">\n",
       "      <th></th>\n",
       "      <th>restaurant_id</th>\n",
       "      <th>city</th>\n",
       "      <th>cuisine_style</th>\n",
       "      <th>ranking</th>\n",
       "      <th>price_range</th>\n",
       "      <th>number_of_reviews</th>\n",
       "      <th>reviews</th>\n",
       "      <th>id_ta</th>\n",
       "      <th>sample</th>\n",
       "      <th>rating</th>\n",
       "    </tr>\n",
       "  </thead>\n",
       "  <tbody>\n",
       "    <tr>\n",
       "      <td>0</td>\n",
       "      <td>id_0</td>\n",
       "      <td>Paris</td>\n",
       "      <td>['Bar', 'Pub']</td>\n",
       "      <td>12963.0</td>\n",
       "      <td>$$ - $$$</td>\n",
       "      <td>4.0</td>\n",
       "      <td>[[], []]</td>\n",
       "      <td>d10746918</td>\n",
       "      <td>0</td>\n",
       "      <td>0.0</td>\n",
       "    </tr>\n",
       "    <tr>\n",
       "      <td>1</td>\n",
       "      <td>id_1</td>\n",
       "      <td>Helsinki</td>\n",
       "      <td>['European', 'Scandinavian', 'Gluten Free Opti...</td>\n",
       "      <td>106.0</td>\n",
       "      <td>$$ - $$$</td>\n",
       "      <td>97.0</td>\n",
       "      <td>[['Very good reviews!', 'Fine dining in Hakani...</td>\n",
       "      <td>d6674944</td>\n",
       "      <td>0</td>\n",
       "      <td>0.0</td>\n",
       "    </tr>\n",
       "    <tr>\n",
       "      <td>2</td>\n",
       "      <td>id_2</td>\n",
       "      <td>Edinburgh</td>\n",
       "      <td>['Vegetarian Friendly']</td>\n",
       "      <td>810.0</td>\n",
       "      <td>$$ - $$$</td>\n",
       "      <td>28.0</td>\n",
       "      <td>[['Better than the Links', 'Ivy Black'], ['12/...</td>\n",
       "      <td>d13129638</td>\n",
       "      <td>0</td>\n",
       "      <td>0.0</td>\n",
       "    </tr>\n",
       "    <tr>\n",
       "      <td>3</td>\n",
       "      <td>id_3</td>\n",
       "      <td>London</td>\n",
       "      <td>['Italian', 'Mediterranean', 'European', 'Vege...</td>\n",
       "      <td>1669.0</td>\n",
       "      <td>$$$$</td>\n",
       "      <td>202.0</td>\n",
       "      <td>[['Most exquisite', 'Delicious and authentic']...</td>\n",
       "      <td>d680417</td>\n",
       "      <td>0</td>\n",
       "      <td>0.0</td>\n",
       "    </tr>\n",
       "    <tr>\n",
       "      <td>4</td>\n",
       "      <td>id_4</td>\n",
       "      <td>Bratislava</td>\n",
       "      <td>['Italian', 'Mediterranean', 'European', 'Seaf...</td>\n",
       "      <td>37.0</td>\n",
       "      <td>$$$$</td>\n",
       "      <td>162.0</td>\n",
       "      <td>[['Always the best in bratislava', 'Very good ...</td>\n",
       "      <td>d1112354</td>\n",
       "      <td>0</td>\n",
       "      <td>0.0</td>\n",
       "    </tr>\n",
       "    <tr>\n",
       "      <td>...</td>\n",
       "      <td>...</td>\n",
       "      <td>...</td>\n",
       "      <td>...</td>\n",
       "      <td>...</td>\n",
       "      <td>...</td>\n",
       "      <td>...</td>\n",
       "      <td>...</td>\n",
       "      <td>...</td>\n",
       "      <td>...</td>\n",
       "      <td>...</td>\n",
       "    </tr>\n",
       "    <tr>\n",
       "      <td>49995</td>\n",
       "      <td>id_499</td>\n",
       "      <td>Milan</td>\n",
       "      <td>['Italian', 'Vegetarian Friendly', 'Vegan Opti...</td>\n",
       "      <td>500.0</td>\n",
       "      <td>$$ - $$$</td>\n",
       "      <td>79.0</td>\n",
       "      <td>[['The real Italian experience!', 'Wonderful f...</td>\n",
       "      <td>d2104414</td>\n",
       "      <td>1</td>\n",
       "      <td>4.5</td>\n",
       "    </tr>\n",
       "    <tr>\n",
       "      <td>49996</td>\n",
       "      <td>id_6340</td>\n",
       "      <td>Paris</td>\n",
       "      <td>['French', 'American', 'Bar', 'European', 'Veg...</td>\n",
       "      <td>6341.0</td>\n",
       "      <td>$$ - $$$</td>\n",
       "      <td>542.0</td>\n",
       "      <td>[['Parisian atmosphere', 'Bit pricey but inter...</td>\n",
       "      <td>d1800036</td>\n",
       "      <td>1</td>\n",
       "      <td>3.5</td>\n",
       "    </tr>\n",
       "    <tr>\n",
       "      <td>49997</td>\n",
       "      <td>id_1649</td>\n",
       "      <td>Stockholm</td>\n",
       "      <td>['Japanese', 'Sushi']</td>\n",
       "      <td>1652.0</td>\n",
       "      <td>NaN</td>\n",
       "      <td>4.0</td>\n",
       "      <td>[['Good by swedish standards', 'A hidden jewel...</td>\n",
       "      <td>d947615</td>\n",
       "      <td>1</td>\n",
       "      <td>4.5</td>\n",
       "    </tr>\n",
       "    <tr>\n",
       "      <td>49998</td>\n",
       "      <td>id_640</td>\n",
       "      <td>Warsaw</td>\n",
       "      <td>['Polish', 'European', 'Eastern European', 'Ce...</td>\n",
       "      <td>641.0</td>\n",
       "      <td>$$ - $$$</td>\n",
       "      <td>70.0</td>\n",
       "      <td>[['Underground restaurant', 'Oldest Restaurant...</td>\n",
       "      <td>d1100838</td>\n",
       "      <td>1</td>\n",
       "      <td>4.0</td>\n",
       "    </tr>\n",
       "    <tr>\n",
       "      <td>49999</td>\n",
       "      <td>id_4824</td>\n",
       "      <td>Milan</td>\n",
       "      <td>['Spanish']</td>\n",
       "      <td>4827.0</td>\n",
       "      <td>$$ - $$$</td>\n",
       "      <td>260.0</td>\n",
       "      <td>[['Average', 'Nice an informal'], ['01/31/2016...</td>\n",
       "      <td>d1109020</td>\n",
       "      <td>1</td>\n",
       "      <td>3.0</td>\n",
       "    </tr>\n",
       "  </tbody>\n",
       "</table>\n",
       "<p>50000 rows × 10 columns</p>\n",
       "</div>"
      ],
      "text/plain": [
       "      restaurant_id        city  \\\n",
       "0              id_0       Paris   \n",
       "1              id_1    Helsinki   \n",
       "2              id_2   Edinburgh   \n",
       "3              id_3      London   \n",
       "4              id_4  Bratislava   \n",
       "...             ...         ...   \n",
       "49995        id_499       Milan   \n",
       "49996       id_6340       Paris   \n",
       "49997       id_1649   Stockholm   \n",
       "49998        id_640      Warsaw   \n",
       "49999       id_4824       Milan   \n",
       "\n",
       "                                           cuisine_style  ranking price_range  \\\n",
       "0                                         ['Bar', 'Pub']  12963.0    $$ - $$$   \n",
       "1      ['European', 'Scandinavian', 'Gluten Free Opti...    106.0    $$ - $$$   \n",
       "2                                ['Vegetarian Friendly']    810.0    $$ - $$$   \n",
       "3      ['Italian', 'Mediterranean', 'European', 'Vege...   1669.0        $$$$   \n",
       "4      ['Italian', 'Mediterranean', 'European', 'Seaf...     37.0        $$$$   \n",
       "...                                                  ...      ...         ...   \n",
       "49995  ['Italian', 'Vegetarian Friendly', 'Vegan Opti...    500.0    $$ - $$$   \n",
       "49996  ['French', 'American', 'Bar', 'European', 'Veg...   6341.0    $$ - $$$   \n",
       "49997                              ['Japanese', 'Sushi']   1652.0         NaN   \n",
       "49998  ['Polish', 'European', 'Eastern European', 'Ce...    641.0    $$ - $$$   \n",
       "49999                                        ['Spanish']   4827.0    $$ - $$$   \n",
       "\n",
       "       number_of_reviews                                            reviews  \\\n",
       "0                    4.0                                           [[], []]   \n",
       "1                   97.0  [['Very good reviews!', 'Fine dining in Hakani...   \n",
       "2                   28.0  [['Better than the Links', 'Ivy Black'], ['12/...   \n",
       "3                  202.0  [['Most exquisite', 'Delicious and authentic']...   \n",
       "4                  162.0  [['Always the best in bratislava', 'Very good ...   \n",
       "...                  ...                                                ...   \n",
       "49995               79.0  [['The real Italian experience!', 'Wonderful f...   \n",
       "49996              542.0  [['Parisian atmosphere', 'Bit pricey but inter...   \n",
       "49997                4.0  [['Good by swedish standards', 'A hidden jewel...   \n",
       "49998               70.0  [['Underground restaurant', 'Oldest Restaurant...   \n",
       "49999              260.0  [['Average', 'Nice an informal'], ['01/31/2016...   \n",
       "\n",
       "           id_ta  sample  rating  \n",
       "0      d10746918       0     0.0  \n",
       "1       d6674944       0     0.0  \n",
       "2      d13129638       0     0.0  \n",
       "3        d680417       0     0.0  \n",
       "4       d1112354       0     0.0  \n",
       "...          ...     ...     ...  \n",
       "49995   d2104414       1     4.5  \n",
       "49996   d1800036       1     3.5  \n",
       "49997    d947615       1     4.5  \n",
       "49998   d1100838       1     4.0  \n",
       "49999   d1109020       1     3.0  \n",
       "\n",
       "[50000 rows x 10 columns]"
      ]
     },
     "execution_count": 22,
     "metadata": {},
     "output_type": "execute_result"
    }
   ],
   "source": [
    "data"
   ]
  },
  {
   "cell_type": "markdown",
   "metadata": {},
   "source": [
    "### city\n",
    "__________"
   ]
  },
  {
   "cell_type": "markdown",
   "metadata": {},
   "source": [
    "Сколько и какие города представлены в наборе данных?"
   ]
  },
  {
   "cell_type": "code",
   "execution_count": 23,
   "metadata": {},
   "outputs": [
    {
     "data": {
      "image/png": "[encoded data removed]",
      "text/plain": [
       "<Figure size 864x576 with 1 Axes>"
      ]
     },
     "metadata": {
      "needs_background": "light"
     },
     "output_type": "display_data"
    }
   ],
   "source": [
    "fig, ax  = plt.subplots(figsize=(12,8))\n",
    "\n",
    "data['city'].value_counts(ascending=True).plot(kind='barh');\n",
    "\n",
    "ax.set_title('city', size=12);"
   ]
  },
  {
   "cell_type": "markdown",
   "metadata": {},
   "source": [
    "Подготовка данных для визуализации местонахождения городов"
   ]
  },
  {
   "cell_type": "code",
   "execution_count": 70,
   "metadata": {},
   "outputs": [],
   "source": [
    "# Координаты добыты вручную с помощью сайта Google.com\n",
    "\n",
    "coordinates = {'city': ['London', 'Paris', 'Madrid', 'Barcelona', 'Berlin', 'Milan', 'Rome', 'Prague', 'Lisbon', \n",
    "                       'Vienna', 'Amsterdam', 'Brussels', 'Hamburg', 'Munich', 'Lyon', 'Stockholm', \n",
    "                       'Budapest', 'Warsaw', 'Dublin', 'Copenhagen', 'Athens', 'Edinburg', 'Zurich',\n",
    "                       'Oporto', 'Geneva', ' Krakow', ' Oslo', 'Helsinki', ' Bratislava', 'Luxenbourg', 'Ljubljana'],\n",
    "               'lat': [51.5074, 48.8566, 40.4168, 41.3851, 52.5200, 45.4642, 41.9028, 50.0755, 38.7223,\n",
    "                      48.2082, 52.3667, 50.8503, 53.5511, 48.1351, 45.7640, 59.3293, 47.4979, 52.2297,\n",
    "                      53.3498, 55.6761, 37.9838, 55.9533, 47.3769, 41.1579, 46.2044, 50.0647, 59.9139,\n",
    "                     60.1699, 48.1486, 49.8153, 46.0569],\n",
    "               'long': [0.1278, 2.3522, -3.7038, 2.1734, 13.4050, 9.1900, 12.4964, 14.4378, -9.1393,\n",
    "                       16.3738, 4.8945, 4.3517, 9.9937, 11.5820, 4.8357, 18.0686, 19.0402, 21.0122,\n",
    "                       -6.2603, 12.5683, 23.7275, -3.1883, 8.5417, -8.6291, 6.1432, 19.9450, 10.7522,\n",
    "                       24.9384, 17.1077, 6.1296, 14.5058]}"
   ]
  },
  {
   "cell_type": "code",
   "execution_count": 74,
   "metadata": {},
   "outputs": [],
   "source": [
    "# Создание Датафрейма\n",
    "coordinates_df = pd.DataFrame(coordinates)"
   ]
  },
  {
   "cell_type": "markdown",
   "metadata": {},
   "source": [
    "Построение карты"
   ]
  },
  {
   "cell_type": "code",
   "execution_count": 72,
   "metadata": {},
   "outputs": [
    {
     "data": {
      "application/vnd.jupyter.widget-view+json": {
       "model_id": "069409ef1ec4496a8d7cc27fa47f0953",
       "version_major": 2,
       "version_minor": 0
      },
      "text/plain": [
       "Map(center=[54.526, 15.2551], controls=(ZoomControl(options=['position', 'zoom_in_text', 'zoom_in_title', 'zoo…"
      ]
     },
     "metadata": {},
     "output_type": "display_data"
    }
   ],
   "source": [
    "europe = (54.5260, 15.2551) # координата Европы\n",
    "\n",
    "europe_dot_map = Map(center=europe, zoom=4) # создание карты\n",
    "\n",
    "for index, row in coordinates_df.iterrows(): # наложение значений на карту города\n",
    "    marker = Marker(location=[row['lat'], row['long']], title=str(row['city']), draggable=False, opacity=.7)\n",
    "    europe_dot_map.add_layer(marker)\n",
    "\n",
    "    \n",
    "    \n",
    "# Создание кнопки полного контроля масштаба карты\n",
    "control = FullScreenControl()   \n",
    "# Добавление данной кнопки к карте\n",
    "europe_dot_map.add_control(control)\n",
    "# вывод\n",
    "europe_dot_map "
   ]
  },
  {
   "cell_type": "markdown",
   "metadata": {},
   "source": [
    "Наибольшая часть ресторанов представлена в западной Европе, однако диапазон практически равномерно распределен по всей территории Европы. Практически все города принадлежат разным странам за исключением:\n",
    "\n",
    "* Германия: Берлин, Мюнхен, Гамбург\n",
    "\n",
    "* Италия: Рим, Милан\n",
    "\n",
    "* Франция: Париж, Лион\n",
    "\n",
    "* Испания: Мадрид, Барселона\n",
    "\n",
    "* Португалия: Лисcабон, Опорто\n",
    "\n",
    "* Швейцария: Цюрих, Женева"
   ]
  },
  {
   "cell_type": "markdown",
   "metadata": {},
   "source": [
    "Как в данных распределен ранг ресторанов, в первых, лидирующих по количеству ресторанов в датафейме, 10 городах? "
   ]
  },
  {
   "cell_type": "code",
   "execution_count": 24,
   "metadata": {},
   "outputs": [
    {
     "data": {
      "image/png": "[encoded data removed]",
      "text/plain": [
       "<Figure size 864x504 with 1 Axes>"
      ]
     },
     "metadata": {
      "needs_background": "light"
     },
     "output_type": "display_data"
    }
   ],
   "source": [
    "fig, ax = plt.subplots(figsize=(12,7))\n",
    "\n",
    "for x in (data['city'].value_counts())[0:10].index:\n",
    "    data['ranking'][data['city'] == x].hist(bins=100)\n",
    "plt.show()"
   ]
  },
  {
   "cell_type": "markdown",
   "metadata": {},
   "source": [
    "###  cuisine_style\n",
    "_______"
   ]
  },
  {
   "cell_type": "markdown",
   "metadata": {},
   "source": [
    "Предлагается рассмотреть количество и вариабельность кухонь, представленных не только в каждом ресторане, но во всем наборе данных"
   ]
  },
  {
   "cell_type": "code",
   "execution_count": 84,
   "metadata": {},
   "outputs": [],
   "source": [
    "cuisine = data['cuisine_style'].copy()\n",
    "cuisine.dropna(inplace=True)"
   ]
  },
  {
   "cell_type": "code",
   "execution_count": 85,
   "metadata": {},
   "outputs": [],
   "source": [
    "cuisine = cuisine.str.strip('[]')\n",
    "cuisine_df = pd.DataFrame(cuisine.str.split(',').tolist()).stack().reset_index([0])\n",
    "cuisine_df.drop(['level_0'], axis=1, inplace=True)\n",
    "cuisine_df.columns = ['cuisine']\n",
    "cuisine_df['cuisine'] = cuisine_df['cuisine'].str.replace(\"'\",'')\n",
    "cuisine_df['cuisine'] = cuisine_df['cuisine'].str.strip(' ')\n",
    "cuisine_df.reset_index(drop=True, inplace=True)"
   ]
  },
  {
   "cell_type": "code",
   "execution_count": 86,
   "metadata": {},
   "outputs": [
    {
     "data": {
      "text/html": [
       "<div>\n",
       "<style scoped>\n",
       "    .dataframe tbody tr th:only-of-type {\n",
       "        vertical-align: middle;\n",
       "    }\n",
       "\n",
       "    .dataframe tbody tr th {\n",
       "        vertical-align: top;\n",
       "    }\n",
       "\n",
       "    .dataframe thead th {\n",
       "        text-align: right;\n",
       "    }\n",
       "</style>\n",
       "<table border=\"1\" class=\"dataframe\">\n",
       "  <thead>\n",
       "    <tr style=\"text-align: right;\">\n",
       "      <th></th>\n",
       "      <th>cuisine</th>\n",
       "    </tr>\n",
       "  </thead>\n",
       "  <tbody>\n",
       "    <tr>\n",
       "      <td>0</td>\n",
       "      <td>Bar</td>\n",
       "    </tr>\n",
       "    <tr>\n",
       "      <td>1</td>\n",
       "      <td>Pub</td>\n",
       "    </tr>\n",
       "    <tr>\n",
       "      <td>2</td>\n",
       "      <td>European</td>\n",
       "    </tr>\n",
       "    <tr>\n",
       "      <td>3</td>\n",
       "      <td>Scandinavian</td>\n",
       "    </tr>\n",
       "    <tr>\n",
       "      <td>4</td>\n",
       "      <td>Gluten Free Options</td>\n",
       "    </tr>\n",
       "    <tr>\n",
       "      <td>5</td>\n",
       "      <td>Vegetarian Friendly</td>\n",
       "    </tr>\n",
       "    <tr>\n",
       "      <td>6</td>\n",
       "      <td>Vegan Options</td>\n",
       "    </tr>\n",
       "    <tr>\n",
       "      <td>7</td>\n",
       "      <td>Vegetarian Friendly</td>\n",
       "    </tr>\n",
       "    <tr>\n",
       "      <td>8</td>\n",
       "      <td>Italian</td>\n",
       "    </tr>\n",
       "    <tr>\n",
       "      <td>9</td>\n",
       "      <td>Mediterranean</td>\n",
       "    </tr>\n",
       "    <tr>\n",
       "      <td>10</td>\n",
       "      <td>European</td>\n",
       "    </tr>\n",
       "    <tr>\n",
       "      <td>11</td>\n",
       "      <td>Vegetarian Friendly</td>\n",
       "    </tr>\n",
       "  </tbody>\n",
       "</table>\n",
       "</div>"
      ],
      "text/plain": [
       "                cuisine\n",
       "0                   Bar\n",
       "1                   Pub\n",
       "2              European\n",
       "3          Scandinavian\n",
       "4   Gluten Free Options\n",
       "5   Vegetarian Friendly\n",
       "6         Vegan Options\n",
       "7   Vegetarian Friendly\n",
       "8               Italian\n",
       "9         Mediterranean\n",
       "10             European\n",
       "11  Vegetarian Friendly"
      ]
     },
     "execution_count": 86,
     "metadata": {},
     "output_type": "execute_result"
    }
   ],
   "source": [
    "cuisine_df.head(12) # первые 12 значений"
   ]
  },
  {
   "cell_type": "markdown",
   "metadata": {},
   "source": [
    "Сколько и какие уникальные значения содержит новый, созданный датафрейм"
   ]
  },
  {
   "cell_type": "code",
   "execution_count": 87,
   "metadata": {},
   "outputs": [
    {
     "data": {
      "text/plain": [
       "125"
      ]
     },
     "execution_count": 87,
     "metadata": {},
     "output_type": "execute_result"
    }
   ],
   "source": [
    "cuisine_df['cuisine'].nunique()"
   ]
  },
  {
   "cell_type": "code",
   "execution_count": 88,
   "metadata": {},
   "outputs": [
    {
     "data": {
      "text/plain": [
       "array(['Bar', 'Pub', 'European', 'Scandinavian', 'Gluten Free Options',\n",
       "       'Vegetarian Friendly', 'Vegan Options', 'Italian', 'Mediterranean',\n",
       "       'Seafood', 'French', 'Cafe', 'Fast Food', 'Portuguese', 'Greek',\n",
       "       'Czech', 'Eastern European', 'Central European', 'Pizza',\n",
       "       'British', 'Spanish', 'Norwegian', 'African', 'Moroccan',\n",
       "       'Middle Eastern', 'Halal', 'Indian', 'Thai', 'Dutch', 'Welsh',\n",
       "       'American', 'Steakhouse', 'Soups', 'Scottish', 'Fusion',\n",
       "       'Street Food', 'Hungarian', 'Asian', 'Wine Bar', 'Barbecue',\n",
       "       'Central American', 'Peruvian', 'South American', 'Irish',\n",
       "       'Polish', 'Vietnamese', 'Lebanese', 'Turkish', 'Healthy',\n",
       "       'Japanese', 'Sushi', 'Austrian', 'Chinese', 'Danish',\n",
       "       'International', 'Gastropub', 'Korean', 'German', 'Contemporary',\n",
       "       'Arabic', 'Diner', 'Swiss', 'Swedish', 'Persian', 'Australian',\n",
       "       'Grill', 'Mexican', 'Latin', 'Belgian', 'Argentinean', 'Tunisian',\n",
       "       'Russian', 'Nepali', 'Bangladeshi', 'Colombian', 'Sri Lankan',\n",
       "       'Pakistani', 'Brew Pub', 'Israeli', 'Brazilian', 'Delicatessen',\n",
       "       'Kosher', 'Ethiopian', 'Taiwanese', 'Indonesian', 'Malaysian',\n",
       "       'Venezuelan', 'Balti', 'Armenian', 'Slovenian', 'Caribbean',\n",
       "       'Jamaican', 'Ecuadorean', 'Chilean', 'Hawaiian',\n",
       "       'Minority Chinese', 'Croatian', 'Cambodian', 'Afghani', 'Tibetan',\n",
       "       'Romanian', 'Southwestern', 'Mongolian', 'Cajun & Creole',\n",
       "       'Singaporean', 'Filipino', 'Cuban', 'Native American', 'Canadian',\n",
       "       'Egyptian', 'Azerbaijani', 'Georgian', 'Yunnan', 'New Zealand',\n",
       "       'Ukrainian', 'Albanian', 'Central Asian', 'Polynesian',\n",
       "       'Caucasian', 'Uzbek', 'Salvadoran', 'Xinjiang', 'Burmese',\n",
       "       'Fujian', 'Latvian'], dtype=object)"
      ]
     },
     "execution_count": 88,
     "metadata": {},
     "output_type": "execute_result"
    }
   ],
   "source": [
    "cuisine_df['cuisine'].unique()"
   ]
  },
  {
   "cell_type": "markdown",
   "metadata": {},
   "source": [
    "Сколько вариаций кухонь в среднем приходится на один ресторан?"
   ]
  },
  {
   "cell_type": "code",
   "execution_count": 89,
   "metadata": {},
   "outputs": [
    {
     "data": {
      "text/plain": [
       "3.1157511064826866"
      ]
     },
     "execution_count": 89,
     "metadata": {},
     "output_type": "execute_result"
    }
   ],
   "source": [
    "data['cuisine_style'].dropna().apply(lambda x: len(x.strip('[]').split(','))).mean()"
   ]
  },
  {
   "cell_type": "markdown",
   "metadata": {},
   "source": [
    "Число 125 немного преувеличенно, с учетом, что имеются такие совпадения, как Pizza и Italian, Pub и Irish, Sushi и Japanese, что является некоторым барьером в установление абсолютно уникальных значений, зависящее от самого типа кухни, а не вариаций названий или их ассоциативных аналогов. Для большей уверенности можно задать некоторый диапазон уникальных значений. Из полученных данных наглядно видно, что в датафрейме присутствует от 100 до 125 уникальных значений кухонь.\n",
    "\n",
    "Какая кухня представлена в наибольшем количестве ресторанов?\n"
   ]
  },
  {
   "cell_type": "code",
   "execution_count": 90,
   "metadata": {},
   "outputs": [
    {
     "data": {
      "image/png": "[encoded data removed]",
      "text/plain": [
       "<Figure size 864x432 with 1 Axes>"
      ]
     },
     "metadata": {
      "needs_background": "light"
     },
     "output_type": "display_data"
    }
   ],
   "source": [
    "fig, ax = plt.subplots(figsize=(12, 6))\n",
    "\n",
    "cuisine_df['cuisine'].value_counts().head(20).sort_values(ascending=True).plot(kind='barh');"
   ]
  },
  {
   "cell_type": "markdown",
   "metadata": {},
   "source": [
    "Какое среднее количество кухонь предлагается в одном ресторане? Если в данных отсутствует информация о типах кухонь, то будет считаться, что в этом ресторане предлагается только один тип кухни."
   ]
  },
  {
   "cell_type": "code",
   "execution_count": 30,
   "metadata": {},
   "outputs": [],
   "source": [
    "cuisineset = data['cuisine_style'].copy()\n",
    "cuisineset.fillna('unknown', inplace=True) #заполним NaN типом str, обозначив пустое значение 'unknown'(неизвестно)\n",
    "# Это поможет инструментарию pandas для дальнейшей работы со значениями типа str"
   ]
  },
  {
   "cell_type": "code",
   "execution_count": 31,
   "metadata": {},
   "outputs": [
    {
     "data": {
      "text/plain": [
       "0                                           ['Bar', 'Pub']\n",
       "1        ['European', 'Scandinavian', 'Gluten Free Opti...\n",
       "2                                  ['Vegetarian Friendly']\n",
       "3        ['Italian', 'Mediterranean', 'European', 'Vege...\n",
       "4        ['Italian', 'Mediterranean', 'European', 'Seaf...\n",
       "                               ...                        \n",
       "49995    ['Italian', 'Vegetarian Friendly', 'Vegan Opti...\n",
       "49996    ['French', 'American', 'Bar', 'European', 'Veg...\n",
       "49997                                ['Japanese', 'Sushi']\n",
       "49998    ['Polish', 'European', 'Eastern European', 'Ce...\n",
       "49999                                          ['Spanish']\n",
       "Name: cuisine_style, Length: 50000, dtype: object"
      ]
     },
     "execution_count": 31,
     "metadata": {},
     "output_type": "execute_result"
    }
   ],
   "source": [
    "cuisineset"
   ]
  },
  {
   "cell_type": "code",
   "execution_count": 32,
   "metadata": {},
   "outputs": [
    {
     "data": {
      "text/plain": [
       "2.6"
      ]
     },
     "execution_count": 32,
     "metadata": {},
     "output_type": "execute_result"
    }
   ],
   "source": [
    "round(cuisineset.apply(lambda x: len(x.strip('[]').strip(\"'\").split(','))).mean(),1)"
   ]
  },
  {
   "cell_type": "markdown",
   "metadata": {},
   "source": [
    "### ranking\n",
    "____________\n"
   ]
  },
  {
   "cell_type": "markdown",
   "metadata": {},
   "source": [
    "Как распределен ранг ресторанов?"
   ]
  },
  {
   "cell_type": "code",
   "execution_count": 25,
   "metadata": {},
   "outputs": [
    {
     "data": {
      "image/png": "[encoded data removed]",
      "text/plain": [
       "<Figure size 864x504 with 1 Axes>"
      ]
     },
     "metadata": {
      "needs_background": "light"
     },
     "output_type": "display_data"
    }
   ],
   "source": [
    "fig, ax = plt.subplots(figsize=(12, 7))\n",
    "\n",
    "plt.hist(data['ranking'], bins=100);\n",
    "\n",
    "ax.set_title('ranking', size=12);"
   ]
  },
  {
   "cell_type": "markdown",
   "metadata": {},
   "source": [
    "### price_range\n",
    "________\n",
    "\n",
    "\n",
    "\n",
    "\n"
   ]
  },
  {
   "cell_type": "code",
   "execution_count": 34,
   "metadata": {},
   "outputs": [
    {
     "data": {
      "text/plain": [
       "$$ - $$$    23041\n",
       "$            7816\n",
       "$$$$         1782\n",
       "Name: price_range, dtype: int64"
      ]
     },
     "execution_count": 34,
     "metadata": {},
     "output_type": "execute_result"
    }
   ],
   "source": [
    "data['price_range'].value_counts()"
   ]
  },
  {
   "cell_type": "markdown",
   "metadata": {},
   "source": [
    "В признаке диапазона цены присутствует только 3 значения, что вероятно означает возможный диапазон размера чека (вероятно среднего)"
   ]
  },
  {
   "cell_type": "code",
   "execution_count": 35,
   "metadata": {},
   "outputs": [
    {
     "data": {
      "text/html": [
       "<div>\n",
       "<style scoped>\n",
       "    .dataframe tbody tr th:only-of-type {\n",
       "        vertical-align: middle;\n",
       "    }\n",
       "\n",
       "    .dataframe tbody tr th {\n",
       "        vertical-align: top;\n",
       "    }\n",
       "\n",
       "    .dataframe thead th {\n",
       "        text-align: right;\n",
       "    }\n",
       "</style>\n",
       "<table border=\"1\" class=\"dataframe\">\n",
       "  <thead>\n",
       "    <tr style=\"text-align: right;\">\n",
       "      <th></th>\n",
       "      <th>restaurant_id</th>\n",
       "      <th>city</th>\n",
       "      <th>cuisine_style</th>\n",
       "      <th>ranking</th>\n",
       "      <th>price_range</th>\n",
       "      <th>number_of_reviews</th>\n",
       "      <th>reviews</th>\n",
       "      <th>id_ta</th>\n",
       "      <th>sample</th>\n",
       "      <th>rating</th>\n",
       "    </tr>\n",
       "  </thead>\n",
       "  <tbody>\n",
       "    <tr>\n",
       "      <td>0</td>\n",
       "      <td>id_0</td>\n",
       "      <td>Paris</td>\n",
       "      <td>['Bar', 'Pub']</td>\n",
       "      <td>12963.0</td>\n",
       "      <td>$$ - $$$</td>\n",
       "      <td>4.0</td>\n",
       "      <td>[[], []]</td>\n",
       "      <td>d10746918</td>\n",
       "      <td>0</td>\n",
       "      <td>0.0</td>\n",
       "    </tr>\n",
       "    <tr>\n",
       "      <td>1</td>\n",
       "      <td>id_1</td>\n",
       "      <td>Helsinki</td>\n",
       "      <td>['European', 'Scandinavian', 'Gluten Free Opti...</td>\n",
       "      <td>106.0</td>\n",
       "      <td>$$ - $$$</td>\n",
       "      <td>97.0</td>\n",
       "      <td>[['Very good reviews!', 'Fine dining in Hakani...</td>\n",
       "      <td>d6674944</td>\n",
       "      <td>0</td>\n",
       "      <td>0.0</td>\n",
       "    </tr>\n",
       "    <tr>\n",
       "      <td>2</td>\n",
       "      <td>id_2</td>\n",
       "      <td>Edinburgh</td>\n",
       "      <td>['Vegetarian Friendly']</td>\n",
       "      <td>810.0</td>\n",
       "      <td>$$ - $$$</td>\n",
       "      <td>28.0</td>\n",
       "      <td>[['Better than the Links', 'Ivy Black'], ['12/...</td>\n",
       "      <td>d13129638</td>\n",
       "      <td>0</td>\n",
       "      <td>0.0</td>\n",
       "    </tr>\n",
       "    <tr>\n",
       "      <td>3</td>\n",
       "      <td>id_3</td>\n",
       "      <td>London</td>\n",
       "      <td>['Italian', 'Mediterranean', 'European', 'Vege...</td>\n",
       "      <td>1669.0</td>\n",
       "      <td>$$$$</td>\n",
       "      <td>202.0</td>\n",
       "      <td>[['Most exquisite', 'Delicious and authentic']...</td>\n",
       "      <td>d680417</td>\n",
       "      <td>0</td>\n",
       "      <td>0.0</td>\n",
       "    </tr>\n",
       "    <tr>\n",
       "      <td>4</td>\n",
       "      <td>id_4</td>\n",
       "      <td>Bratislava</td>\n",
       "      <td>['Italian', 'Mediterranean', 'European', 'Seaf...</td>\n",
       "      <td>37.0</td>\n",
       "      <td>$$$$</td>\n",
       "      <td>162.0</td>\n",
       "      <td>[['Always the best in bratislava', 'Very good ...</td>\n",
       "      <td>d1112354</td>\n",
       "      <td>0</td>\n",
       "      <td>0.0</td>\n",
       "    </tr>\n",
       "    <tr>\n",
       "      <td>...</td>\n",
       "      <td>...</td>\n",
       "      <td>...</td>\n",
       "      <td>...</td>\n",
       "      <td>...</td>\n",
       "      <td>...</td>\n",
       "      <td>...</td>\n",
       "      <td>...</td>\n",
       "      <td>...</td>\n",
       "      <td>...</td>\n",
       "      <td>...</td>\n",
       "    </tr>\n",
       "    <tr>\n",
       "      <td>49995</td>\n",
       "      <td>id_499</td>\n",
       "      <td>Milan</td>\n",
       "      <td>['Italian', 'Vegetarian Friendly', 'Vegan Opti...</td>\n",
       "      <td>500.0</td>\n",
       "      <td>$$ - $$$</td>\n",
       "      <td>79.0</td>\n",
       "      <td>[['The real Italian experience!', 'Wonderful f...</td>\n",
       "      <td>d2104414</td>\n",
       "      <td>1</td>\n",
       "      <td>4.5</td>\n",
       "    </tr>\n",
       "    <tr>\n",
       "      <td>49996</td>\n",
       "      <td>id_6340</td>\n",
       "      <td>Paris</td>\n",
       "      <td>['French', 'American', 'Bar', 'European', 'Veg...</td>\n",
       "      <td>6341.0</td>\n",
       "      <td>$$ - $$$</td>\n",
       "      <td>542.0</td>\n",
       "      <td>[['Parisian atmosphere', 'Bit pricey but inter...</td>\n",
       "      <td>d1800036</td>\n",
       "      <td>1</td>\n",
       "      <td>3.5</td>\n",
       "    </tr>\n",
       "    <tr>\n",
       "      <td>49997</td>\n",
       "      <td>id_1649</td>\n",
       "      <td>Stockholm</td>\n",
       "      <td>['Japanese', 'Sushi']</td>\n",
       "      <td>1652.0</td>\n",
       "      <td>NaN</td>\n",
       "      <td>4.0</td>\n",
       "      <td>[['Good by swedish standards', 'A hidden jewel...</td>\n",
       "      <td>d947615</td>\n",
       "      <td>1</td>\n",
       "      <td>4.5</td>\n",
       "    </tr>\n",
       "    <tr>\n",
       "      <td>49998</td>\n",
       "      <td>id_640</td>\n",
       "      <td>Warsaw</td>\n",
       "      <td>['Polish', 'European', 'Eastern European', 'Ce...</td>\n",
       "      <td>641.0</td>\n",
       "      <td>$$ - $$$</td>\n",
       "      <td>70.0</td>\n",
       "      <td>[['Underground restaurant', 'Oldest Restaurant...</td>\n",
       "      <td>d1100838</td>\n",
       "      <td>1</td>\n",
       "      <td>4.0</td>\n",
       "    </tr>\n",
       "    <tr>\n",
       "      <td>49999</td>\n",
       "      <td>id_4824</td>\n",
       "      <td>Milan</td>\n",
       "      <td>['Spanish']</td>\n",
       "      <td>4827.0</td>\n",
       "      <td>$$ - $$$</td>\n",
       "      <td>260.0</td>\n",
       "      <td>[['Average', 'Nice an informal'], ['01/31/2016...</td>\n",
       "      <td>d1109020</td>\n",
       "      <td>1</td>\n",
       "      <td>3.0</td>\n",
       "    </tr>\n",
       "  </tbody>\n",
       "</table>\n",
       "<p>50000 rows × 10 columns</p>\n",
       "</div>"
      ],
      "text/plain": [
       "      restaurant_id        city  \\\n",
       "0              id_0       Paris   \n",
       "1              id_1    Helsinki   \n",
       "2              id_2   Edinburgh   \n",
       "3              id_3      London   \n",
       "4              id_4  Bratislava   \n",
       "...             ...         ...   \n",
       "49995        id_499       Milan   \n",
       "49996       id_6340       Paris   \n",
       "49997       id_1649   Stockholm   \n",
       "49998        id_640      Warsaw   \n",
       "49999       id_4824       Milan   \n",
       "\n",
       "                                           cuisine_style  ranking price_range  \\\n",
       "0                                         ['Bar', 'Pub']  12963.0    $$ - $$$   \n",
       "1      ['European', 'Scandinavian', 'Gluten Free Opti...    106.0    $$ - $$$   \n",
       "2                                ['Vegetarian Friendly']    810.0    $$ - $$$   \n",
       "3      ['Italian', 'Mediterranean', 'European', 'Vege...   1669.0        $$$$   \n",
       "4      ['Italian', 'Mediterranean', 'European', 'Seaf...     37.0        $$$$   \n",
       "...                                                  ...      ...         ...   \n",
       "49995  ['Italian', 'Vegetarian Friendly', 'Vegan Opti...    500.0    $$ - $$$   \n",
       "49996  ['French', 'American', 'Bar', 'European', 'Veg...   6341.0    $$ - $$$   \n",
       "49997                              ['Japanese', 'Sushi']   1652.0         NaN   \n",
       "49998  ['Polish', 'European', 'Eastern European', 'Ce...    641.0    $$ - $$$   \n",
       "49999                                        ['Spanish']   4827.0    $$ - $$$   \n",
       "\n",
       "       number_of_reviews                                            reviews  \\\n",
       "0                    4.0                                           [[], []]   \n",
       "1                   97.0  [['Very good reviews!', 'Fine dining in Hakani...   \n",
       "2                   28.0  [['Better than the Links', 'Ivy Black'], ['12/...   \n",
       "3                  202.0  [['Most exquisite', 'Delicious and authentic']...   \n",
       "4                  162.0  [['Always the best in bratislava', 'Very good ...   \n",
       "...                  ...                                                ...   \n",
       "49995               79.0  [['The real Italian experience!', 'Wonderful f...   \n",
       "49996              542.0  [['Parisian atmosphere', 'Bit pricey but inter...   \n",
       "49997                4.0  [['Good by swedish standards', 'A hidden jewel...   \n",
       "49998               70.0  [['Underground restaurant', 'Oldest Restaurant...   \n",
       "49999              260.0  [['Average', 'Nice an informal'], ['01/31/2016...   \n",
       "\n",
       "           id_ta  sample  rating  \n",
       "0      d10746918       0     0.0  \n",
       "1       d6674944       0     0.0  \n",
       "2      d13129638       0     0.0  \n",
       "3        d680417       0     0.0  \n",
       "4       d1112354       0     0.0  \n",
       "...          ...     ...     ...  \n",
       "49995   d2104414       1     4.5  \n",
       "49996   d1800036       1     3.5  \n",
       "49997    d947615       1     4.5  \n",
       "49998   d1100838       1     4.0  \n",
       "49999   d1109020       1     3.0  \n",
       "\n",
       "[50000 rows x 10 columns]"
      ]
     },
     "execution_count": 35,
     "metadata": {},
     "output_type": "execute_result"
    }
   ],
   "source": [
    "data"
   ]
  },
  {
   "cell_type": "markdown",
   "metadata": {},
   "source": [
    "### number_of_reviews\n",
    "____________"
   ]
  },
  {
   "cell_type": "code",
   "execution_count": 126,
   "metadata": {},
   "outputs": [
    {
     "data": {
      "image/png": "[encoded data removed]",
      "text/plain": [
       "<Figure size 864x504 with 1 Axes>"
      ]
     },
     "metadata": {
      "needs_background": "light"
     },
     "output_type": "display_data"
    }
   ],
   "source": [
    "fig, ax = plt.subplots(figsize=(12, 7))\n",
    "\n",
    "data['number_of_reviews'].hist(bins=50);"
   ]
  },
  {
   "cell_type": "code",
   "execution_count": 29,
   "metadata": {},
   "outputs": [
    {
     "data": {
      "text/plain": [
       "count    50000.000000\n",
       "mean       116.505040\n",
       "std        286.173104\n",
       "min          0.000000\n",
       "25%          7.000000\n",
       "50%         28.000000\n",
       "75%        105.000000\n",
       "max       9660.000000\n",
       "Name: number_of_reviews, dtype: float64"
      ]
     },
     "execution_count": 29,
     "metadata": {},
     "output_type": "execute_result"
    }
   ],
   "source": [
    "data['number_of_reviews'].describe()"
   ]
  },
  {
   "cell_type": "markdown",
   "metadata": {},
   "source": [
    "Как распределены количество отзывов по каждому городу?"
   ]
  },
  {
   "cell_type": "code",
   "execution_count": 37,
   "metadata": {},
   "outputs": [
    {
     "data": {
      "image/png": "[encoded data removed]",
      "text/plain": [
       "<Figure size 864x504 with 1 Axes>"
      ]
     },
     "metadata": {
      "needs_background": "light"
     },
     "output_type": "display_data"
    }
   ],
   "source": [
    "fig, ax = plt.subplots(figsize=(12, 7))\n",
    "\n",
    "data.groupby('city')['number_of_reviews'].count().sort_values(ascending=True).plot(kind='barh');\n",
    "\n",
    "ax.set_xlabel('number of reviews');\n",
    "ax.set_title('Reviews in the City', size=12);"
   ]
  },
  {
   "cell_type": "markdown",
   "metadata": {},
   "source": [
    "### Reviews\n",
    "__________\n",
    "Пользу в данном признаке для текущей задачи несет только информация о времени публикации отзыва. Более глубокий семантический анализ не предусматривается. Информация о времени публикации будет рассмотрена в разделе создания признаков\n",
    "_________\n"
   ]
  },
  {
   "cell_type": "markdown",
   "metadata": {},
   "source": [
    "## Вывод\n",
    "__________"
   ]
  },
  {
   "cell_type": "markdown",
   "metadata": {},
   "source": [
    "Были более подробно рассмотрены признаки датафрейма.\n",
    "\n",
    "При рассмотрении городов, было установлено, что наибольшая часть ресторанов представлена в западной Европе, однако диапазон практически равномерно распределен по всей территории Европы. Практически все города принадлежат разным странам за исключением:\n",
    "\n",
    "* Германия: Берлин, Мюнхен, Гамбург\n",
    "\n",
    "* Италия: Рим, Милан\n",
    "\n",
    "* Франция: Париж, Лион\n",
    "\n",
    "* Испания: Мадрид, Барселона\n",
    "\n",
    "* Португалия: Лисабон, Опорто\n",
    "\n",
    "* Швейцария: Цюрих, Женева\n",
    "\n",
    "При изучении типов кухонь было установлено, что количество уникальных кухонь находится в диапазоне от 100 до 125 значений, а среднее количество кухонь, приходящееся на 1 ресторан равен 3. В предпочтениях значительно лидирует вегетарианская кухня, европейская, средиземноморская и итальянская. Более того, вегетарианской кухней заполнено 28% всех представленных ресторанов .\n",
    "\n",
    "Ценовой диапазон чека представлен тремя значениями, что возможно говорит о среднем чеке каждого из ресторанов. В среднем ресторан собирает около 28 отзывов, большая часть значений сконцентрировано вокруг первой десятки. Имеются рестораны, которые набирают даже сотни и тысячи отзывов, однако таких ресторанов меньшинство. Вероятно, отзывов так много, потому что данные рестораны не только пользуются большим спросом, но и существуют достаточно долго, однако, может быть и так, что при введении данных была совершена ошибка.\n",
    "\n",
    "Что касается самих отзывов, то данный признак остался без детального рассмотрения, так как в данной работе не предусматривается серьезный семантический анализ. Однако, в нем имеется информация о датах публикаций, которая может быть полезной, однако этот пункт оставлен для дальнейшей работы при создании новых признаков.\n",
    "\n"
   ]
  },
  {
   "cell_type": "markdown",
   "metadata": {},
   "source": [
    "# Шаг 3. Создание новых признаков\n",
    "________________"
   ]
  },
  {
   "cell_type": "markdown",
   "metadata": {},
   "source": [
    "Создание значений, демонстрирующих ранг ресторана в контексте общего количества ресторанов в городе"
   ]
  },
  {
   "cell_type": "code",
   "execution_count": 157,
   "metadata": {},
   "outputs": [],
   "source": [
    "# Выделение в словарь количество ресторанов\n",
    "rest_count = data.groupby('city')['restaurant_id'].count().to_dict()\n",
    "\n",
    "# Добавление количетсва ресторанов каждого города в отдельный признак\n",
    "data['total_count_of_restaurants'] = data['city'].map(rest_count).astype('int16')\n",
    "\n",
    "# Создание дополнительного признака (ранг ресторана относительно количество ресторанов в городе) \n",
    "# и оптимизация типов его значений\n",
    "data['relative_ranking'] = data['ranking']/data['total_count_of_restaurants']"
   ]
  },
  {
   "cell_type": "markdown",
   "metadata": {},
   "source": [
    "Создание нового признака, отражающий разницу между датами двух последних отзывов"
   ]
  },
  {
   "cell_type": "code",
   "execution_count": 156,
   "metadata": {},
   "outputs": [],
   "source": [
    "# Извлечение необходимой информации и приведение ее к нужному виду\n",
    "data['date_of_review'] = data['reviews'].str.findall('\\d+/\\d+/\\d+')\n",
    "data['date_of_review'].apply(lambda x: str(x).strip('[]'))\n",
    "\n",
    "# Создание двух серий с датами отзывов (для последующего нахождения разницы значений)\n",
    "Series_time = data['date_of_review'].apply(lambda x: pd.Series(x))\n",
    "\n",
    "time_df = Series_time.drop(labels=2, axis=1)\n",
    "time_df\n",
    "\n",
    "# Поиск разницы между датами\n",
    "timedelta = pd.to_datetime(time_df[0]) - pd.to_datetime(time_df[1])\n",
    "\n",
    "# Вывод разницы в виде количества дней\n",
    "timedelta = timedelta.apply(lambda x: abs(x.days))\n",
    "\n",
    "# Заполнение пустых значений 0\n",
    "timedelta.fillna(0, inplace=True)\n",
    "\n",
    "# Приведение к типу int16 для сокращение нагрузки на рабочую память\n",
    "timedelta = timedelta.astype('int16')\n",
    "\n",
    "# Создание признака в основном датафрейме\n",
    "data['timedelta'] = timedelta"
   ]
  },
  {
   "cell_type": "markdown",
   "metadata": {},
   "source": [
    "Создание признака, указывающий на количество стилей кухонь в каждом ресторане"
   ]
  },
  {
   "cell_type": "code",
   "execution_count": 252,
   "metadata": {},
   "outputs": [],
   "source": [
    "data['cuisine_count'] = data['cuisine_style']\n",
    "\n",
    "data['cuisine_count'].fillna('[three, variables, are needed]', inplace=True)\n",
    "data['cuisine_count'] = data['cuisine_count'].apply(lambda x: len(x.strip('[]').split(',')))"
   ]
  },
  {
   "cell_type": "markdown",
   "metadata": {},
   "source": [
    "## Вывод\n",
    "_____________"
   ]
  },
  {
   "cell_type": "markdown",
   "metadata": {},
   "source": [
    "Было создано 3 дополнительных признака\n",
    "\n",
    "* Относительный ранг ресторана ( место, которое он занимает среди всех ресторанов в своем городе, по отношению к общему количество всех ресторанов в городе)\n",
    "\n",
    "Мотивация: предполагается, что данная метрика связана с реальным спросом на ресторан, а значит способна поспособствовать определению его рейтинга.\n",
    "\n",
    "* Разница во времени между двумя последними отзывами\n",
    "\n",
    "Мотивация: данная метрика, возможно, укажет на посещаемость и  актуальность ресторана. Если даты стоят близко, это означает высокий спрос и количество оставляемых отзывов. К сожалению, предоставленных дат в данных всего две, однако если иметь диапазон, хотя бы в 100 значений, то это лучше бы смогло отразить текущую идею.\n",
    "\n",
    "* Количество стилей кухонь в каждом ресторане\n",
    "\n",
    "Мотивация: возможно, разнообразие блюд также способствует увеличению рейтинга ресторана."
   ]
  },
  {
   "cell_type": "markdown",
   "metadata": {},
   "source": [
    "# Шаг 4. Обработка необходимых признаков и построение модели \n",
    "______________"
   ]
  },
  {
   "cell_type": "markdown",
   "metadata": {},
   "source": [
    "На данном этапе будут выбраны необходимые признаки датафрейма. Дополнительно необходимо преобразовать некоторые типы значений к количественному виду, для того, чтобы не терять информацию о ресторанах и иметь возможность использовать ее при построении модели. "
   ]
  },
  {
   "cell_type": "markdown",
   "metadata": {},
   "source": [
    "### Обработка\n",
    "_________"
   ]
  },
  {
   "cell_type": "markdown",
   "metadata": {},
   "source": [
    "Предлагается работать в копии документа, чтобы при изменениях данных не искажать первоначальный датафрейм"
   ]
  },
  {
   "cell_type": "code",
   "execution_count": 405,
   "metadata": {},
   "outputs": [],
   "source": [
    "df = data.query('sample == 1').drop(['sample'], axis=1).copy()"
   ]
  },
  {
   "cell_type": "markdown",
   "metadata": {},
   "source": [
    "Избавление от ненужных признаков"
   ]
  },
  {
   "cell_type": "code",
   "execution_count": 406,
   "metadata": {},
   "outputs": [],
   "source": [
    "df.drop(['restaurant_id', 'reviews', 'date_of_review', 'id_ta'], axis=1, inplace=True)"
   ]
  },
  {
   "cell_type": "code",
   "execution_count": 407,
   "metadata": {},
   "outputs": [
    {
     "data": {
      "text/html": [
       "<div>\n",
       "<style scoped>\n",
       "    .dataframe tbody tr th:only-of-type {\n",
       "        vertical-align: middle;\n",
       "    }\n",
       "\n",
       "    .dataframe tbody tr th {\n",
       "        vertical-align: top;\n",
       "    }\n",
       "\n",
       "    .dataframe thead th {\n",
       "        text-align: right;\n",
       "    }\n",
       "</style>\n",
       "<table border=\"1\" class=\"dataframe\">\n",
       "  <thead>\n",
       "    <tr style=\"text-align: right;\">\n",
       "      <th></th>\n",
       "      <th>city</th>\n",
       "      <th>cuisine_style</th>\n",
       "      <th>ranking</th>\n",
       "      <th>price_range</th>\n",
       "      <th>number_of_reviews</th>\n",
       "      <th>rating</th>\n",
       "      <th>total_count_of_restaurants</th>\n",
       "      <th>timedelta</th>\n",
       "      <th>relative_ranking</th>\n",
       "      <th>cuisine_count</th>\n",
       "    </tr>\n",
       "  </thead>\n",
       "  <tbody>\n",
       "    <tr>\n",
       "      <td>10000</td>\n",
       "      <td>Paris</td>\n",
       "      <td>['European', 'French', 'International']</td>\n",
       "      <td>5570.0</td>\n",
       "      <td>$$ - $$$</td>\n",
       "      <td>194.0</td>\n",
       "      <td>3.5</td>\n",
       "      <td>6108</td>\n",
       "      <td>41</td>\n",
       "      <td>0.911919</td>\n",
       "      <td>3</td>\n",
       "    </tr>\n",
       "    <tr>\n",
       "      <td>10001</td>\n",
       "      <td>Stockholm</td>\n",
       "      <td>NaN</td>\n",
       "      <td>1537.0</td>\n",
       "      <td>NaN</td>\n",
       "      <td>10.0</td>\n",
       "      <td>4.0</td>\n",
       "      <td>1033</td>\n",
       "      <td>382</td>\n",
       "      <td>1.487899</td>\n",
       "      <td>3</td>\n",
       "    </tr>\n",
       "    <tr>\n",
       "      <td>10002</td>\n",
       "      <td>London</td>\n",
       "      <td>['Japanese', 'Sushi', 'Asian', 'Grill', 'Veget...</td>\n",
       "      <td>353.0</td>\n",
       "      <td>$$$$</td>\n",
       "      <td>688.0</td>\n",
       "      <td>4.5</td>\n",
       "      <td>7193</td>\n",
       "      <td>2</td>\n",
       "      <td>0.049075</td>\n",
       "      <td>7</td>\n",
       "    </tr>\n",
       "    <tr>\n",
       "      <td>10003</td>\n",
       "      <td>Berlin</td>\n",
       "      <td>NaN</td>\n",
       "      <td>3458.0</td>\n",
       "      <td>NaN</td>\n",
       "      <td>3.0</td>\n",
       "      <td>5.0</td>\n",
       "      <td>2705</td>\n",
       "      <td>0</td>\n",
       "      <td>1.278373</td>\n",
       "      <td>3</td>\n",
       "    </tr>\n",
       "    <tr>\n",
       "      <td>10004</td>\n",
       "      <td>Munich</td>\n",
       "      <td>['German', 'Central European', 'Vegetarian Fri...</td>\n",
       "      <td>621.0</td>\n",
       "      <td>$$ - $$$</td>\n",
       "      <td>84.0</td>\n",
       "      <td>4.0</td>\n",
       "      <td>1145</td>\n",
       "      <td>272</td>\n",
       "      <td>0.542358</td>\n",
       "      <td>3</td>\n",
       "    </tr>\n",
       "  </tbody>\n",
       "</table>\n",
       "</div>"
      ],
      "text/plain": [
       "            city                                      cuisine_style  ranking  \\\n",
       "10000      Paris            ['European', 'French', 'International']   5570.0   \n",
       "10001  Stockholm                                                NaN   1537.0   \n",
       "10002     London  ['Japanese', 'Sushi', 'Asian', 'Grill', 'Veget...    353.0   \n",
       "10003     Berlin                                                NaN   3458.0   \n",
       "10004     Munich  ['German', 'Central European', 'Vegetarian Fri...    621.0   \n",
       "\n",
       "      price_range  number_of_reviews  rating  total_count_of_restaurants  \\\n",
       "10000    $$ - $$$              194.0     3.5                        6108   \n",
       "10001         NaN               10.0     4.0                        1033   \n",
       "10002        $$$$              688.0     4.5                        7193   \n",
       "10003         NaN                3.0     5.0                        2705   \n",
       "10004    $$ - $$$               84.0     4.0                        1145   \n",
       "\n",
       "       timedelta  relative_ranking  cuisine_count  \n",
       "10000         41          0.911919              3  \n",
       "10001        382          1.487899              3  \n",
       "10002          2          0.049075              7  \n",
       "10003          0          1.278373              3  \n",
       "10004        272          0.542358              3  "
      ]
     },
     "execution_count": 407,
     "metadata": {},
     "output_type": "execute_result"
    }
   ],
   "source": [
    "df.head()"
   ]
  },
  {
   "cell_type": "markdown",
   "metadata": {},
   "source": [
    "В основном, набор блюд в признаке cuisine_style имеет схожую стилистику. Предлагается взять первое значение видов кухонь каждого ресторана, чтобы в дальнейшем закодировать данные, переведя их из категориального типа в числовой."
   ]
  },
  {
   "cell_type": "code",
   "execution_count": 408,
   "metadata": {},
   "outputs": [],
   "source": [
    "df['cuisine_style'] = df['cuisine_style'].fillna('na')\n",
    "df['cuisine_style'] = df['cuisine_style'].apply(lambda x: x.strip('[]').replace(\"'\", \"\").split(',')[0])"
   ]
  },
  {
   "cell_type": "markdown",
   "metadata": {},
   "source": [
    "Так как в признаке price_range имеется 13886 пропусков, что соответствует практически трети наблюдений (что означает, что удаление данных будет являться значительной потерей), взамен их устранения предлагается присвоить дополнительное категориальное значение для дальнейшей кодировки."
   ]
  },
  {
   "cell_type": "code",
   "execution_count": 409,
   "metadata": {},
   "outputs": [],
   "source": [
    "df['price_range'].fillna('na', inplace=True)"
   ]
  },
  {
   "cell_type": "markdown",
   "metadata": {},
   "source": [
    "Оптимизация значений, приемлемая для того, чтобы не перегружать память вычислительной машины при ее работе"
   ]
  },
  {
   "cell_type": "code",
   "execution_count": 410,
   "metadata": {},
   "outputs": [],
   "source": [
    "df['ranking'] = df['ranking'].astype('int16') "
   ]
  },
  {
   "cell_type": "code",
   "execution_count": 411,
   "metadata": {},
   "outputs": [
    {
     "data": {
      "text/html": [
       "<div>\n",
       "<style scoped>\n",
       "    .dataframe tbody tr th:only-of-type {\n",
       "        vertical-align: middle;\n",
       "    }\n",
       "\n",
       "    .dataframe tbody tr th {\n",
       "        vertical-align: top;\n",
       "    }\n",
       "\n",
       "    .dataframe thead th {\n",
       "        text-align: right;\n",
       "    }\n",
       "</style>\n",
       "<table border=\"1\" class=\"dataframe\">\n",
       "  <thead>\n",
       "    <tr style=\"text-align: right;\">\n",
       "      <th></th>\n",
       "      <th>city</th>\n",
       "      <th>cuisine_style</th>\n",
       "      <th>ranking</th>\n",
       "      <th>price_range</th>\n",
       "      <th>number_of_reviews</th>\n",
       "      <th>rating</th>\n",
       "      <th>total_count_of_restaurants</th>\n",
       "      <th>timedelta</th>\n",
       "      <th>relative_ranking</th>\n",
       "      <th>cuisine_count</th>\n",
       "    </tr>\n",
       "  </thead>\n",
       "  <tbody>\n",
       "    <tr>\n",
       "      <td>10000</td>\n",
       "      <td>Paris</td>\n",
       "      <td>European</td>\n",
       "      <td>5570</td>\n",
       "      <td>$$ - $$$</td>\n",
       "      <td>194.0</td>\n",
       "      <td>3.5</td>\n",
       "      <td>6108</td>\n",
       "      <td>41</td>\n",
       "      <td>0.911919</td>\n",
       "      <td>3</td>\n",
       "    </tr>\n",
       "    <tr>\n",
       "      <td>10001</td>\n",
       "      <td>Stockholm</td>\n",
       "      <td>na</td>\n",
       "      <td>1537</td>\n",
       "      <td>na</td>\n",
       "      <td>10.0</td>\n",
       "      <td>4.0</td>\n",
       "      <td>1033</td>\n",
       "      <td>382</td>\n",
       "      <td>1.487899</td>\n",
       "      <td>3</td>\n",
       "    </tr>\n",
       "    <tr>\n",
       "      <td>10002</td>\n",
       "      <td>London</td>\n",
       "      <td>Japanese</td>\n",
       "      <td>353</td>\n",
       "      <td>$$$$</td>\n",
       "      <td>688.0</td>\n",
       "      <td>4.5</td>\n",
       "      <td>7193</td>\n",
       "      <td>2</td>\n",
       "      <td>0.049075</td>\n",
       "      <td>7</td>\n",
       "    </tr>\n",
       "    <tr>\n",
       "      <td>10003</td>\n",
       "      <td>Berlin</td>\n",
       "      <td>na</td>\n",
       "      <td>3458</td>\n",
       "      <td>na</td>\n",
       "      <td>3.0</td>\n",
       "      <td>5.0</td>\n",
       "      <td>2705</td>\n",
       "      <td>0</td>\n",
       "      <td>1.278373</td>\n",
       "      <td>3</td>\n",
       "    </tr>\n",
       "    <tr>\n",
       "      <td>10004</td>\n",
       "      <td>Munich</td>\n",
       "      <td>German</td>\n",
       "      <td>621</td>\n",
       "      <td>$$ - $$$</td>\n",
       "      <td>84.0</td>\n",
       "      <td>4.0</td>\n",
       "      <td>1145</td>\n",
       "      <td>272</td>\n",
       "      <td>0.542358</td>\n",
       "      <td>3</td>\n",
       "    </tr>\n",
       "  </tbody>\n",
       "</table>\n",
       "</div>"
      ],
      "text/plain": [
       "            city cuisine_style  ranking price_range  number_of_reviews  \\\n",
       "10000      Paris      European     5570    $$ - $$$              194.0   \n",
       "10001  Stockholm            na     1537          na               10.0   \n",
       "10002     London      Japanese      353        $$$$              688.0   \n",
       "10003     Berlin            na     3458          na                3.0   \n",
       "10004     Munich        German      621    $$ - $$$               84.0   \n",
       "\n",
       "       rating  total_count_of_restaurants  timedelta  relative_ranking  \\\n",
       "10000     3.5                        6108         41          0.911919   \n",
       "10001     4.0                        1033        382          1.487899   \n",
       "10002     4.5                        7193          2          0.049075   \n",
       "10003     5.0                        2705          0          1.278373   \n",
       "10004     4.0                        1145        272          0.542358   \n",
       "\n",
       "       cuisine_count  \n",
       "10000              3  \n",
       "10001              3  \n",
       "10002              7  \n",
       "10003              3  \n",
       "10004              3  "
      ]
     },
     "execution_count": 411,
     "metadata": {},
     "output_type": "execute_result"
    }
   ],
   "source": [
    "df.head()"
   ]
  },
  {
   "cell_type": "markdown",
   "metadata": {},
   "source": [
    "Заполнение пропусков признака number_of_reviews медианным значением. Данное решение связано с тем, что количество пропусков в данном признаке не является критическим, не превышая и 10% наблюдений, так же, медиана будет предпочтительнее среднего, так как в данных имеются слишком удаленные от средних показателей значения."
   ]
  },
  {
   "cell_type": "code",
   "execution_count": 412,
   "metadata": {},
   "outputs": [],
   "source": [
    "df['number_of_reviews'].fillna(28, inplace=True)\n",
    "\n",
    "df['number_of_reviews'] = df['number_of_reviews'].astype('int16')\n",
    "# оптимизация значений"
   ]
  },
  {
   "cell_type": "markdown",
   "metadata": {},
   "source": [
    "Какие признаки в датафрейме для построения модели остались категориальными? "
   ]
  },
  {
   "cell_type": "code",
   "execution_count": 413,
   "metadata": {},
   "outputs": [
    {
     "data": {
      "text/plain": [
       "['city', 'cuisine_style', 'ranking', 'price_range']"
      ]
     },
     "execution_count": 413,
     "metadata": {},
     "output_type": "execute_result"
    }
   ],
   "source": [
    "categorical_features = list()\n",
    "for column in df.columns:\n",
    "    if df[column].dtype == 'object':\n",
    "        categorical_features.append(column)\n",
    "categorical_features.insert(2, 'ranking')\n",
    "categorical_features"
   ]
  },
  {
   "cell_type": "markdown",
   "metadata": {},
   "source": [
    "Данные признаки предлагается закодировать и перевести в числовые значения с помощью метода OrdinalEncoder"
   ]
  },
  {
   "cell_type": "code",
   "execution_count": 414,
   "metadata": {},
   "outputs": [],
   "source": [
    "encoder = OrdinalEncoder()"
   ]
  },
  {
   "cell_type": "markdown",
   "metadata": {},
   "source": [
    "Применение энкодера на имеющихся признаках"
   ]
  },
  {
   "cell_type": "code",
   "execution_count": 415,
   "metadata": {},
   "outputs": [],
   "source": [
    "encoder.fit(df[categorical_features])\n",
    "\n",
    "ordinal_data = encoder.transform(df[categorical_features]) "
   ]
  },
  {
   "cell_type": "code",
   "execution_count": 416,
   "metadata": {},
   "outputs": [
    {
     "data": {
      "text/html": [
       "<div>\n",
       "<style scoped>\n",
       "    .dataframe tbody tr th:only-of-type {\n",
       "        vertical-align: middle;\n",
       "    }\n",
       "\n",
       "    .dataframe tbody tr th {\n",
       "        vertical-align: top;\n",
       "    }\n",
       "\n",
       "    .dataframe thead th {\n",
       "        text-align: right;\n",
       "    }\n",
       "</style>\n",
       "<table border=\"1\" class=\"dataframe\">\n",
       "  <thead>\n",
       "    <tr style=\"text-align: right;\">\n",
       "      <th></th>\n",
       "      <th>0</th>\n",
       "      <th>1</th>\n",
       "      <th>2</th>\n",
       "      <th>3</th>\n",
       "    </tr>\n",
       "  </thead>\n",
       "  <tbody>\n",
       "    <tr>\n",
       "      <td>0</td>\n",
       "      <td>24.0</td>\n",
       "      <td>37.0</td>\n",
       "      <td>5479.0</td>\n",
       "      <td>1.0</td>\n",
       "    </tr>\n",
       "    <tr>\n",
       "      <td>1</td>\n",
       "      <td>27.0</td>\n",
       "      <td>107.0</td>\n",
       "      <td>1536.0</td>\n",
       "      <td>3.0</td>\n",
       "    </tr>\n",
       "    <tr>\n",
       "      <td>2</td>\n",
       "      <td>16.0</td>\n",
       "      <td>58.0</td>\n",
       "      <td>352.0</td>\n",
       "      <td>2.0</td>\n",
       "    </tr>\n",
       "    <tr>\n",
       "      <td>3</td>\n",
       "      <td>3.0</td>\n",
       "      <td>107.0</td>\n",
       "      <td>3449.0</td>\n",
       "      <td>3.0</td>\n",
       "    </tr>\n",
       "    <tr>\n",
       "      <td>4</td>\n",
       "      <td>21.0</td>\n",
       "      <td>44.0</td>\n",
       "      <td>620.0</td>\n",
       "      <td>1.0</td>\n",
       "    </tr>\n",
       "    <tr>\n",
       "      <td>...</td>\n",
       "      <td>...</td>\n",
       "      <td>...</td>\n",
       "      <td>...</td>\n",
       "      <td>...</td>\n",
       "    </tr>\n",
       "    <tr>\n",
       "      <td>39995</td>\n",
       "      <td>20.0</td>\n",
       "      <td>57.0</td>\n",
       "      <td>499.0</td>\n",
       "      <td>1.0</td>\n",
       "    </tr>\n",
       "    <tr>\n",
       "      <td>39996</td>\n",
       "      <td>24.0</td>\n",
       "      <td>40.0</td>\n",
       "      <td>6191.0</td>\n",
       "      <td>1.0</td>\n",
       "    </tr>\n",
       "    <tr>\n",
       "      <td>39997</td>\n",
       "      <td>27.0</td>\n",
       "      <td>58.0</td>\n",
       "      <td>1651.0</td>\n",
       "      <td>3.0</td>\n",
       "    </tr>\n",
       "    <tr>\n",
       "      <td>39998</td>\n",
       "      <td>29.0</td>\n",
       "      <td>76.0</td>\n",
       "      <td>640.0</td>\n",
       "      <td>1.0</td>\n",
       "    </tr>\n",
       "    <tr>\n",
       "      <td>39999</td>\n",
       "      <td>20.0</td>\n",
       "      <td>89.0</td>\n",
       "      <td>4768.0</td>\n",
       "      <td>1.0</td>\n",
       "    </tr>\n",
       "  </tbody>\n",
       "</table>\n",
       "<p>40000 rows × 4 columns</p>\n",
       "</div>"
      ],
      "text/plain": [
       "          0      1       2    3\n",
       "0      24.0   37.0  5479.0  1.0\n",
       "1      27.0  107.0  1536.0  3.0\n",
       "2      16.0   58.0   352.0  2.0\n",
       "3       3.0  107.0  3449.0  3.0\n",
       "4      21.0   44.0   620.0  1.0\n",
       "...     ...    ...     ...  ...\n",
       "39995  20.0   57.0   499.0  1.0\n",
       "39996  24.0   40.0  6191.0  1.0\n",
       "39997  27.0   58.0  1651.0  3.0\n",
       "39998  29.0   76.0   640.0  1.0\n",
       "39999  20.0   89.0  4768.0  1.0\n",
       "\n",
       "[40000 rows x 4 columns]"
      ]
     },
     "execution_count": 416,
     "metadata": {},
     "output_type": "execute_result"
    }
   ],
   "source": [
    "# Результат\n",
    "pd.DataFrame(ordinal_data)"
   ]
  },
  {
   "cell_type": "code",
   "execution_count": 417,
   "metadata": {},
   "outputs": [],
   "source": [
    "# Замена имеющихся категориальных значений их количественными аналогами\n",
    "df[categorical_features] = ordinal_data"
   ]
  },
  {
   "cell_type": "code",
   "execution_count": 418,
   "metadata": {},
   "outputs": [
    {
     "data": {
      "text/html": [
       "<div>\n",
       "<style scoped>\n",
       "    .dataframe tbody tr th:only-of-type {\n",
       "        vertical-align: middle;\n",
       "    }\n",
       "\n",
       "    .dataframe tbody tr th {\n",
       "        vertical-align: top;\n",
       "    }\n",
       "\n",
       "    .dataframe thead th {\n",
       "        text-align: right;\n",
       "    }\n",
       "</style>\n",
       "<table border=\"1\" class=\"dataframe\">\n",
       "  <thead>\n",
       "    <tr style=\"text-align: right;\">\n",
       "      <th></th>\n",
       "      <th>city</th>\n",
       "      <th>cuisine_style</th>\n",
       "      <th>ranking</th>\n",
       "      <th>price_range</th>\n",
       "      <th>number_of_reviews</th>\n",
       "      <th>rating</th>\n",
       "      <th>total_count_of_restaurants</th>\n",
       "      <th>timedelta</th>\n",
       "      <th>relative_ranking</th>\n",
       "      <th>cuisine_count</th>\n",
       "    </tr>\n",
       "  </thead>\n",
       "  <tbody>\n",
       "    <tr>\n",
       "      <td>10000</td>\n",
       "      <td>24.0</td>\n",
       "      <td>37.0</td>\n",
       "      <td>5479.0</td>\n",
       "      <td>1.0</td>\n",
       "      <td>194</td>\n",
       "      <td>3.5</td>\n",
       "      <td>6108</td>\n",
       "      <td>41</td>\n",
       "      <td>0.911919</td>\n",
       "      <td>3</td>\n",
       "    </tr>\n",
       "    <tr>\n",
       "      <td>10001</td>\n",
       "      <td>27.0</td>\n",
       "      <td>107.0</td>\n",
       "      <td>1536.0</td>\n",
       "      <td>3.0</td>\n",
       "      <td>10</td>\n",
       "      <td>4.0</td>\n",
       "      <td>1033</td>\n",
       "      <td>382</td>\n",
       "      <td>1.487899</td>\n",
       "      <td>3</td>\n",
       "    </tr>\n",
       "    <tr>\n",
       "      <td>10002</td>\n",
       "      <td>16.0</td>\n",
       "      <td>58.0</td>\n",
       "      <td>352.0</td>\n",
       "      <td>2.0</td>\n",
       "      <td>688</td>\n",
       "      <td>4.5</td>\n",
       "      <td>7193</td>\n",
       "      <td>2</td>\n",
       "      <td>0.049075</td>\n",
       "      <td>7</td>\n",
       "    </tr>\n",
       "    <tr>\n",
       "      <td>10003</td>\n",
       "      <td>3.0</td>\n",
       "      <td>107.0</td>\n",
       "      <td>3449.0</td>\n",
       "      <td>3.0</td>\n",
       "      <td>3</td>\n",
       "      <td>5.0</td>\n",
       "      <td>2705</td>\n",
       "      <td>0</td>\n",
       "      <td>1.278373</td>\n",
       "      <td>3</td>\n",
       "    </tr>\n",
       "    <tr>\n",
       "      <td>10004</td>\n",
       "      <td>21.0</td>\n",
       "      <td>44.0</td>\n",
       "      <td>620.0</td>\n",
       "      <td>1.0</td>\n",
       "      <td>84</td>\n",
       "      <td>4.0</td>\n",
       "      <td>1145</td>\n",
       "      <td>272</td>\n",
       "      <td>0.542358</td>\n",
       "      <td>3</td>\n",
       "    </tr>\n",
       "  </tbody>\n",
       "</table>\n",
       "</div>"
      ],
      "text/plain": [
       "       city  cuisine_style  ranking  price_range  number_of_reviews  rating  \\\n",
       "10000  24.0           37.0   5479.0          1.0                194     3.5   \n",
       "10001  27.0          107.0   1536.0          3.0                 10     4.0   \n",
       "10002  16.0           58.0    352.0          2.0                688     4.5   \n",
       "10003   3.0          107.0   3449.0          3.0                  3     5.0   \n",
       "10004  21.0           44.0    620.0          1.0                 84     4.0   \n",
       "\n",
       "       total_count_of_restaurants  timedelta  relative_ranking  cuisine_count  \n",
       "10000                        6108         41          0.911919              3  \n",
       "10001                        1033        382          1.487899              3  \n",
       "10002                        7193          2          0.049075              7  \n",
       "10003                        2705          0          1.278373              3  \n",
       "10004                        1145        272          0.542358              3  "
      ]
     },
     "execution_count": 418,
     "metadata": {},
     "output_type": "execute_result"
    }
   ],
   "source": [
    "df.head()"
   ]
  },
  {
   "cell_type": "markdown",
   "metadata": {},
   "source": [
    "## Вывод\n",
    "______________\n",
    "\n",
    "В процессе подготовки данных были закодированы 4 категориальных признака, оптимизированы числовые и заменены пустые значения\n",
    "\n",
    "Итоговый набор рассматриваемых признаков для дальнейшего построения модели:\n",
    "\n",
    "* город ( city )\n",
    "* стиль кухни ( cuisine_style )\n",
    "* место, которое занимает данный ресторан среди всех ресторанов своего города ( ranking )\n",
    "* ценовой диапазон ( price_range )\n",
    "* количество отзывов ( number_of_reviews )\n",
    "* рейтинг (целевая переменная) ( rating ) \n",
    "* общее количество ресторанов в городе ( total_count_of_restaurants )\n",
    "* разница во времени между последними двумя отзывами ( timedelta )\n",
    "* место, которое занимает данный ресторан среди всех ресторанов своего города, по отношению к количеству ресторанов в городе     ( relative_ranking )\n",
    "* число стилей кухонь в ресторане ( cuisine_count )\n"
   ]
  },
  {
   "cell_type": "markdown",
   "metadata": {},
   "source": [
    "### Построение модели\n",
    "___________"
   ]
  },
  {
   "cell_type": "markdown",
   "metadata": {},
   "source": [
    "Следует сделать разбиение тестовых и тренировочных данных"
   ]
  },
  {
   "cell_type": "code",
   "execution_count": 419,
   "metadata": {},
   "outputs": [],
   "source": [
    "train_data = data.query('sample == 1').drop(['sample'], axis=1)\n",
    "test_data = data.query('sample == 0').drop(['sample'], axis=1)\n",
    "\n",
    "y = train_data['rating'].values # целевая переменная\n",
    "X = df.drop(['rating'], axis=1)"
   ]
  },
  {
   "cell_type": "code",
   "execution_count": 420,
   "metadata": {},
   "outputs": [
    {
     "data": {
      "text/html": [
       "<div>\n",
       "<style scoped>\n",
       "    .dataframe tbody tr th:only-of-type {\n",
       "        vertical-align: middle;\n",
       "    }\n",
       "\n",
       "    .dataframe tbody tr th {\n",
       "        vertical-align: top;\n",
       "    }\n",
       "\n",
       "    .dataframe thead th {\n",
       "        text-align: right;\n",
       "    }\n",
       "</style>\n",
       "<table border=\"1\" class=\"dataframe\">\n",
       "  <thead>\n",
       "    <tr style=\"text-align: right;\">\n",
       "      <th></th>\n",
       "      <th>city</th>\n",
       "      <th>cuisine_style</th>\n",
       "      <th>ranking</th>\n",
       "      <th>price_range</th>\n",
       "      <th>number_of_reviews</th>\n",
       "      <th>total_count_of_restaurants</th>\n",
       "      <th>timedelta</th>\n",
       "      <th>relative_ranking</th>\n",
       "      <th>cuisine_count</th>\n",
       "    </tr>\n",
       "  </thead>\n",
       "  <tbody>\n",
       "    <tr>\n",
       "      <td>10000</td>\n",
       "      <td>24.0</td>\n",
       "      <td>37.0</td>\n",
       "      <td>5479.0</td>\n",
       "      <td>1.0</td>\n",
       "      <td>194</td>\n",
       "      <td>6108</td>\n",
       "      <td>41</td>\n",
       "      <td>0.911919</td>\n",
       "      <td>3</td>\n",
       "    </tr>\n",
       "    <tr>\n",
       "      <td>10001</td>\n",
       "      <td>27.0</td>\n",
       "      <td>107.0</td>\n",
       "      <td>1536.0</td>\n",
       "      <td>3.0</td>\n",
       "      <td>10</td>\n",
       "      <td>1033</td>\n",
       "      <td>382</td>\n",
       "      <td>1.487899</td>\n",
       "      <td>3</td>\n",
       "    </tr>\n",
       "    <tr>\n",
       "      <td>10002</td>\n",
       "      <td>16.0</td>\n",
       "      <td>58.0</td>\n",
       "      <td>352.0</td>\n",
       "      <td>2.0</td>\n",
       "      <td>688</td>\n",
       "      <td>7193</td>\n",
       "      <td>2</td>\n",
       "      <td>0.049075</td>\n",
       "      <td>7</td>\n",
       "    </tr>\n",
       "    <tr>\n",
       "      <td>10003</td>\n",
       "      <td>3.0</td>\n",
       "      <td>107.0</td>\n",
       "      <td>3449.0</td>\n",
       "      <td>3.0</td>\n",
       "      <td>3</td>\n",
       "      <td>2705</td>\n",
       "      <td>0</td>\n",
       "      <td>1.278373</td>\n",
       "      <td>3</td>\n",
       "    </tr>\n",
       "    <tr>\n",
       "      <td>10004</td>\n",
       "      <td>21.0</td>\n",
       "      <td>44.0</td>\n",
       "      <td>620.0</td>\n",
       "      <td>1.0</td>\n",
       "      <td>84</td>\n",
       "      <td>1145</td>\n",
       "      <td>272</td>\n",
       "      <td>0.542358</td>\n",
       "      <td>3</td>\n",
       "    </tr>\n",
       "    <tr>\n",
       "      <td>...</td>\n",
       "      <td>...</td>\n",
       "      <td>...</td>\n",
       "      <td>...</td>\n",
       "      <td>...</td>\n",
       "      <td>...</td>\n",
       "      <td>...</td>\n",
       "      <td>...</td>\n",
       "      <td>...</td>\n",
       "      <td>...</td>\n",
       "    </tr>\n",
       "    <tr>\n",
       "      <td>49995</td>\n",
       "      <td>20.0</td>\n",
       "      <td>57.0</td>\n",
       "      <td>499.0</td>\n",
       "      <td>1.0</td>\n",
       "      <td>79</td>\n",
       "      <td>2694</td>\n",
       "      <td>34</td>\n",
       "      <td>0.185598</td>\n",
       "      <td>4</td>\n",
       "    </tr>\n",
       "    <tr>\n",
       "      <td>49996</td>\n",
       "      <td>24.0</td>\n",
       "      <td>40.0</td>\n",
       "      <td>6191.0</td>\n",
       "      <td>1.0</td>\n",
       "      <td>542</td>\n",
       "      <td>6108</td>\n",
       "      <td>9</td>\n",
       "      <td>1.038147</td>\n",
       "      <td>5</td>\n",
       "    </tr>\n",
       "    <tr>\n",
       "      <td>49997</td>\n",
       "      <td>27.0</td>\n",
       "      <td>58.0</td>\n",
       "      <td>1651.0</td>\n",
       "      <td>3.0</td>\n",
       "      <td>4</td>\n",
       "      <td>1033</td>\n",
       "      <td>3127</td>\n",
       "      <td>1.599226</td>\n",
       "      <td>2</td>\n",
       "    </tr>\n",
       "    <tr>\n",
       "      <td>49998</td>\n",
       "      <td>29.0</td>\n",
       "      <td>76.0</td>\n",
       "      <td>640.0</td>\n",
       "      <td>1.0</td>\n",
       "      <td>70</td>\n",
       "      <td>925</td>\n",
       "      <td>23</td>\n",
       "      <td>0.692973</td>\n",
       "      <td>5</td>\n",
       "    </tr>\n",
       "    <tr>\n",
       "      <td>49999</td>\n",
       "      <td>20.0</td>\n",
       "      <td>89.0</td>\n",
       "      <td>4768.0</td>\n",
       "      <td>1.0</td>\n",
       "      <td>260</td>\n",
       "      <td>2694</td>\n",
       "      <td>1306</td>\n",
       "      <td>1.791759</td>\n",
       "      <td>1</td>\n",
       "    </tr>\n",
       "  </tbody>\n",
       "</table>\n",
       "<p>40000 rows × 9 columns</p>\n",
       "</div>"
      ],
      "text/plain": [
       "       city  cuisine_style  ranking  price_range  number_of_reviews  \\\n",
       "10000  24.0           37.0   5479.0          1.0                194   \n",
       "10001  27.0          107.0   1536.0          3.0                 10   \n",
       "10002  16.0           58.0    352.0          2.0                688   \n",
       "10003   3.0          107.0   3449.0          3.0                  3   \n",
       "10004  21.0           44.0    620.0          1.0                 84   \n",
       "...     ...            ...      ...          ...                ...   \n",
       "49995  20.0           57.0    499.0          1.0                 79   \n",
       "49996  24.0           40.0   6191.0          1.0                542   \n",
       "49997  27.0           58.0   1651.0          3.0                  4   \n",
       "49998  29.0           76.0    640.0          1.0                 70   \n",
       "49999  20.0           89.0   4768.0          1.0                260   \n",
       "\n",
       "       total_count_of_restaurants  timedelta  relative_ranking  cuisine_count  \n",
       "10000                        6108         41          0.911919              3  \n",
       "10001                        1033        382          1.487899              3  \n",
       "10002                        7193          2          0.049075              7  \n",
       "10003                        2705          0          1.278373              3  \n",
       "10004                        1145        272          0.542358              3  \n",
       "...                           ...        ...               ...            ...  \n",
       "49995                        2694         34          0.185598              4  \n",
       "49996                        6108          9          1.038147              5  \n",
       "49997                        1033       3127          1.599226              2  \n",
       "49998                         925         23          0.692973              5  \n",
       "49999                        2694       1306          1.791759              1  \n",
       "\n",
       "[40000 rows x 9 columns]"
      ]
     },
     "execution_count": 420,
     "metadata": {},
     "output_type": "execute_result"
    }
   ],
   "source": [
    "X"
   ]
  },
  {
   "cell_type": "code",
   "execution_count": 421,
   "metadata": {},
   "outputs": [],
   "source": [
    "X_train, X_test, y_train, y_test = train_test_split(X, y, test_size=0.2, random_state=42)"
   ]
  },
  {
   "cell_type": "markdown",
   "metadata": {},
   "source": [
    "Были проведены расчеты для установки наилучших настроек модели.\n",
    "\n",
    "\n",
    "    param_grid = {'n_estimators': list(np.arange(100, 220, 20)), 'max_depth': list(np.arange(10, 60, 10))}\n",
    "\n",
    "    param_grid\n",
    "\n",
    "        param_search = GridSearchCV(estimator=ranfor, param_grid=param_grid, scoring='neg_mean_absolute_error', cv=5, verbose=1, n_jobs=-1)\n",
    "\n",
    "    %%time\n",
    "\n",
    "    param_search.fit(X_train, y_train)\n",
    "\n",
    "    print(param_search.best_params_)\n",
    "\n",
    "    print(param_search.best_score_)\n",
    "    \n",
    "    \n",
    "max_depth = 20 n_est = 200 ( необходимые значения )"
   ]
  },
  {
   "cell_type": "code",
   "execution_count": 422,
   "metadata": {},
   "outputs": [],
   "source": [
    "ranfor = RandomForestRegressor(n_estimators=200, verbose=1, n_jobs=-1, random_state=42, max_depth=20) "
   ]
  },
  {
   "cell_type": "code",
   "execution_count": 423,
   "metadata": {},
   "outputs": [
    {
     "name": "stderr",
     "output_type": "stream",
     "text": [
      "[Parallel(n_jobs=-1)]: Using backend ThreadingBackend with 16 concurrent workers.\n",
      "[Parallel(n_jobs=-1)]: Done  18 tasks      | elapsed:    0.2s\n",
      "[Parallel(n_jobs=-1)]: Done 168 tasks      | elapsed:    1.6s\n",
      "[Parallel(n_jobs=-1)]: Done 200 out of 200 | elapsed:    1.9s finished\n",
      "[Parallel(n_jobs=16)]: Using backend ThreadingBackend with 16 concurrent workers.\n",
      "[Parallel(n_jobs=16)]: Done  18 tasks      | elapsed:    0.0s\n",
      "[Parallel(n_jobs=16)]: Done 168 tasks      | elapsed:    0.0s\n",
      "[Parallel(n_jobs=16)]: Done 200 out of 200 | elapsed:    0.0s finished\n"
     ]
    }
   ],
   "source": [
    "ranfor.fit(X_train, y_train)\n",
    "\n",
    "predictions = ranfor.predict(X_test)"
   ]
  },
  {
   "cell_type": "code",
   "execution_count": 424,
   "metadata": {},
   "outputs": [
    {
     "data": {
      "text/plain": [
       "array([4.61916332, 4.8625    , 4.31830958, ..., 4.57747869, 4.18174564,\n",
       "       4.03288985])"
      ]
     },
     "execution_count": 424,
     "metadata": {},
     "output_type": "execute_result"
    }
   ],
   "source": [
    "predictions"
   ]
  },
  {
   "cell_type": "markdown",
   "metadata": {},
   "source": [
    "Требуется округлить результаты. Допустимый числовой шаг в рейтинге на сайте Tripadvisor составляет 0.5."
   ]
  },
  {
   "cell_type": "code",
   "execution_count": 425,
   "metadata": {},
   "outputs": [],
   "source": [
    "def fine_rating_pred(rating_pred):\n",
    "    if rating_pred <= 0.5:\n",
    "        return 0.0\n",
    "    if rating_pred <= 1.5:\n",
    "        return 1.0\n",
    "    if rating_pred <= 1.75:\n",
    "        return 1.5\n",
    "    if rating_pred <= 2.25:\n",
    "        return 2.0\n",
    "    if rating_pred <= 2.75:\n",
    "        return 2.5\n",
    "    if rating_pred <= 3.25:\n",
    "        return 3.0\n",
    "    if rating_pred <= 3.75:\n",
    "        return 3.5\n",
    "    if rating_pred <= 4.25:\n",
    "        return 4.0\n",
    "    if rating_pred <= 4.75:\n",
    "        return 4.5\n",
    "    return 5.0"
   ]
  },
  {
   "cell_type": "code",
   "execution_count": 426,
   "metadata": {},
   "outputs": [],
   "source": [
    "for i in range(len(predictions)):\n",
    "    predictions[i] = fine_rating_pred(predictions[i])"
   ]
  },
  {
   "cell_type": "code",
   "execution_count": 427,
   "metadata": {},
   "outputs": [
    {
     "data": {
      "text/plain": [
       "array([4.5, 5. , 4.5, ..., 4.5, 4. , 4. ])"
      ]
     },
     "execution_count": 427,
     "metadata": {},
     "output_type": "execute_result"
    }
   ],
   "source": [
    "predictions"
   ]
  },
  {
   "cell_type": "code",
   "execution_count": 428,
   "metadata": {},
   "outputs": [
    {
     "name": "stdout",
     "output_type": "stream",
     "text": [
      "Mean Absolute Error: 0.1766875\n"
     ]
    }
   ],
   "source": [
    "print('Mean Absolute Error:', mean_absolute_error(y_test, predictions))"
   ]
  },
  {
   "cell_type": "code",
   "execution_count": 429,
   "metadata": {},
   "outputs": [
    {
     "data": {
      "image/png": "[encoded data removed]",
      "text/plain": [
       "<Figure size 864x504 with 1 Axes>"
      ]
     },
     "metadata": {
      "needs_background": "light"
     },
     "output_type": "display_data"
    }
   ],
   "source": [
    "fig, ax = plt.subplots(figsize=(12, 7))\n",
    "\n",
    "feat_importances = pd.Series(ranfor.feature_importances_, index=X.columns)\n",
    "feat_importances.nlargest(15).plot(kind='barh');"
   ]
  },
  {
   "cell_type": "markdown",
   "metadata": {},
   "source": [
    "_____________________________"
   ]
  },
  {
   "cell_type": "markdown",
   "metadata": {},
   "source": [
    "# Общий вывод\n",
    "_____"
   ]
  },
  {
   "cell_type": "markdown",
   "metadata": {},
   "source": [
    "## Баг-репорт\n",
    "___________\n",
    "\n",
    "В предоставленных данных наблюдались отсутствующие значения у признаков:\n",
    "* Cuisine Style        11590\n",
    "* Price Range          17361\n",
    "* Number of Reviews     3200\n",
    "* Reviews                  2\n",
    "\n",
    "Также были заменены названия признаков.\n",
    "\n",
    "Иных проблем не обнаружено\n"
   ]
  },
  {
   "cell_type": "markdown",
   "metadata": {},
   "source": [
    "## Результат выполненной работы\n",
    "_____________\n",
    "\n",
    "В данной работе были подробно исследованы признаки датафрейма, а также построена модель, предсказывающая рейтинг ресторана. \n",
    "\n",
    "При рассмотрении городов, было установлено, что наибольшая часть ресторанов представлена в западной Европе, однако диапазон практически равномерно распределен по всей территории Европы. Практически все города принадлежат разным странам за исключением:\n",
    "\n",
    "* Германия: Берлин, Мюнхен, Гамбург\n",
    "\n",
    "* Италия: Рим, Милан\n",
    "\n",
    "* Франция: Париж, Лион\n",
    "\n",
    "* Испания: Мадрид, Барселона\n",
    "\n",
    "* Португалия: Лисабон, Опорто\n",
    "\n",
    "* Швейцария: Цюрих, Женева\n",
    "\n",
    "При изучении типов кухонь было установлено, что количество уникальных кухонь находится в диапазоне от 100 до 125 значений, а среднее количество кухонь, приходящееся на 1 ресторан равен 3. В предпочтениях значительно лидирует вегетарианская кухня, европейская, средиземноморская и итальянская. Более того, вегетарианской кухней заполнено 28% всех представленных ресторанов .\n",
    "\n",
    "Ценовой диапазон чека представлен тремя значениями, что возможно говорит о среднем чеке каждого из ресторанов. В среднем ресторан собирает около 28 отзывов, большая часть значений сконцентрировано вокруг первой десятки. Имеются рестораны, которые набирают даже сотни и тысячи отзывов, однако таких ресторанов меньшинство. Вероятно, отзывов так много, потому что данные рестораны не только пользуются большим спросом, но и существуют достаточно долго, однако, может быть и так, что при введении данных была совершена ошибка.\n",
    "\n",
    "Что касается самих отзывов, то данный признак остался без детального рассмотрения, так как в данной работе не предусматривается серьезный семантический анализ. Однако, в нем имеется информация о датах публикаций, которая может быть полезной, однако этот пункт оставлен для дальнейшей работы при создании новых признаков.\n",
    "\n",
    "В дальнейшем было создано 3 дополнительных признака.\n",
    "\n",
    "* Относительный ранг ресторана ( место, которое он занимает среди всех ресторанов в своем городе, по отношению к общему количество всех ресторанов в городе)\n",
    "\n",
    "* Разница во времени между двумя последними отзывами\n",
    "\n",
    "* Количество стилей кухонь в каждом ресторане\n",
    "\n",
    "На финальной стадии подготовки данных для построения модели были отобраны следующие признаки и создан для них отдельный датафрейм.\n",
    "\n",
    "* город ( city )\n",
    "* стиль кухни ( cuisine_style )\n",
    "* место, которое занимает данный ресторан среди всех ресторанов своего города ( ranking )\n",
    "* ценовой диапазон ( price_range )\n",
    "* количество отзывов ( number_of_reviews )\n",
    "* рейтинг (целевая переменная) ( rating ) \n",
    "* общее количество ресторанов в городе ( total_count_of_restaurants )\n",
    "* разница во времени между последними двумя отзывами ( timedelta )\n",
    "* место, которое занимает данный ресторан среди всех ресторанов своего города, по отношению к количеству ресторанов в городе     ( relative_ranking )\n",
    "* число стилей кухонь в ресторане ( cuisine_count )\n",
    "\n",
    "\n",
    "\n",
    "После проведения испытаниий модель продемонстрировала среднюю абсолютную ошибку 0.1766875. Предсказанные значения пришлось округлить с шагом 0.5, чтобы результат соответствовал стилистике рейтинга Tripadvisor. Наиболее значимыми признаками оказались:\n",
    "* место, которое занимает данный ресторан среди всех ресторанов своего города, по отношению к количеству ресторанов в городе     ( relative_ranking )\n",
    "* количество отзывов ( number_of_reviews )\n",
    "* место, которое занимает данный ресторан среди всех ресторанов своего города ( ranking )\n",
    "* город ( city )\n",
    "\n",
    "C учетом того, что relative_ranking является искусственно созданной из данных метрикой, сложно интерпретируемой в данной задачи, было интересно установить, какую среднюю абсолютную ошибку показала бы модель без ее учета. Значение составило 0.178125, что отличается от раннее выведенной ошибки ,с учетом признака, всего лишь на 0.00143. Следовательно, данный признак не играет практически никакой роли и является излишним в силу своей искусственности. Его можно оставить только исходя из того, что его наличие незначительно, но уменьшает показатель ошибки. Однако, как было доказано, в дальнейшем, модель можно использовать и без наличия relative_ranking.\n"
   ]
  },
  {
   "cell_type": "code",
   "execution_count": null,
   "metadata": {},
   "outputs": [],
   "source": []
  }
 ],
 "metadata": {
  "kernelspec": {
   "display_name": "Python 3",
   "language": "python",
   "name": "python3"
  },
  "language_info": {
   "codemirror_mode": {
    "name": "ipython",
    "version": 3
   },
   "file_extension": ".py",
   "mimetype": "text/x-python",
   "name": "python",
   "nbconvert_exporter": "python",
   "pygments_lexer": "ipython3",
   "version": "3.7.4"
  }
 },
 "nbformat": 4,
 "nbformat_minor": 2
}
